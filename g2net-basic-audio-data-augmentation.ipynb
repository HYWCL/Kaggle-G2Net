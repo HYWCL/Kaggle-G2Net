{
 "cells": [
  {
   "cell_type": "markdown",
   "id": "5e131222",
   "metadata": {
    "papermill": {
     "duration": 0.00706,
     "end_time": "2022-11-17T20:07:59.924993",
     "exception": false,
     "start_time": "2022-11-17T20:07:59.917933",
     "status": "completed"
    },
    "tags": []
   },
   "source": [
    "# Basic spectrogram image classification with Basic Audio Data Augmentation for G2Net."
   ]
  },
  {
   "cell_type": "markdown",
   "id": "27c4cb62",
   "metadata": {
    "papermill": {
     "duration": 0.004958,
     "end_time": "2022-11-17T20:07:59.935158",
     "exception": false,
     "start_time": "2022-11-17T20:07:59.930200",
     "status": "completed"
    },
    "tags": []
   },
   "source": [
    "Code modified from JUN KODA's [Basic spectrogram image classification](https://www.kaggle.com/code/junkoda/basic-spectrogram-image-classification).\n",
    "In addition, I'll introduce some basic audio data augmentations for G2Net."
   ]
  },
  {
   "cell_type": "code",
   "execution_count": 1,
   "id": "ef009d3d",
   "metadata": {
    "execution": {
     "iopub.execute_input": "2022-11-17T20:07:59.947708Z",
     "iopub.status.busy": "2022-11-17T20:07:59.947195Z",
     "iopub.status.idle": "2022-11-17T20:07:59.958571Z",
     "shell.execute_reply": "2022-11-17T20:07:59.957744Z"
    },
    "id": "w5UprQs8ga3c",
    "outputId": "5374b854-2ac0-42d5-9c0c-dede89cdaf8a",
    "papermill": {
     "duration": 0.020211,
     "end_time": "2022-11-17T20:07:59.960534",
     "exception": false,
     "start_time": "2022-11-17T20:07:59.940323",
     "status": "completed"
    },
    "tags": []
   },
   "outputs": [],
   "source": [
    " COLAB = False\n",
    "\n",
    "if COLAB == True:\n",
    "    from google.colab import drive\n",
    "    drive.mount('/content/drive')\n",
    "    %cd '/content/drive/MyDrive/Colab Notebooks/kaggle/G2Net2022/code'"
   ]
  },
  {
   "cell_type": "code",
   "execution_count": 2,
   "id": "8f8e6318",
   "metadata": {
    "execution": {
     "iopub.execute_input": "2022-11-17T20:07:59.971588Z",
     "iopub.status.busy": "2022-11-17T20:07:59.971301Z",
     "iopub.status.idle": "2022-11-17T20:08:12.505364Z",
     "shell.execute_reply": "2022-11-17T20:08:12.504336Z"
    },
    "id": "uBZokyT1gYWD",
    "outputId": "aed15e9e-e33e-4780-9434-cf85f12c2229",
    "papermill": {
     "duration": 12.54243,
     "end_time": "2022-11-17T20:08:12.507870",
     "exception": false,
     "start_time": "2022-11-17T20:07:59.965440",
     "status": "completed"
    },
    "tags": []
   },
   "outputs": [
    {
     "name": "stdout",
     "output_type": "stream",
     "text": [
      "\u001b[33mWARNING: Running pip as the 'root' user can result in broken permissions and conflicting behaviour with the system package manager. It is recommended to use a virtual environment instead: https://pip.pypa.io/warnings/venv\u001b[0m\u001b[33m\r\n",
      "\u001b[0m"
     ]
    }
   ],
   "source": [
    "! pip3 install timm -q"
   ]
  },
  {
   "cell_type": "code",
   "execution_count": 3,
   "id": "c1c26c1c",
   "metadata": {
    "execution": {
     "iopub.execute_input": "2022-11-17T20:08:12.520149Z",
     "iopub.status.busy": "2022-11-17T20:08:12.519507Z",
     "iopub.status.idle": "2022-11-17T20:08:16.334728Z",
     "shell.execute_reply": "2022-11-17T20:08:16.333642Z"
    },
    "id": "3Xgw6q0ugYWH",
    "papermill": {
     "duration": 3.824313,
     "end_time": "2022-11-17T20:08:16.337563",
     "exception": false,
     "start_time": "2022-11-17T20:08:12.513250",
     "status": "completed"
    },
    "tags": []
   },
   "outputs": [],
   "source": [
    "import numpy as np\n",
    "import pandas as pd\n",
    "import matplotlib.pyplot as plt\n",
    "import time\n",
    "import h5py\n",
    "import timm\n",
    "import torch\n",
    "import torch.nn as nn\n",
    "import torchaudio\n",
    "import torchvision.transforms as TF\n",
    "\n",
    "\n",
    "from tqdm.auto import tqdm\n",
    "from sklearn.model_selection import KFold\n",
    "from sklearn.metrics import roc_auc_score\n",
    "from timm.scheduler import CosineLRScheduler\n",
    "\n",
    "device = torch.device('cuda')\n",
    "criterion = nn.BCEWithLogitsLoss()\n",
    "\n",
    "# Train metadata\n",
    "di = '../input/g2net-detecting-continuous-gravitational-waves'\n",
    "df = pd.read_csv(di + '/train_labels.csv')\n",
    "df = df[df.target >= 0]  # Remove 3 unknowns (target = -1)"
   ]
  },
  {
   "cell_type": "markdown",
   "id": "64ba824f",
   "metadata": {
    "id": "tbekTVh-gYWI",
    "papermill": {
     "duration": 0.005161,
     "end_time": "2022-11-17T20:08:16.348255",
     "exception": false,
     "start_time": "2022-11-17T20:08:16.343094",
     "status": "completed"
    },
    "tags": []
   },
   "source": [
    "# Dataset"
   ]
  },
  {
   "cell_type": "code",
   "execution_count": 4,
   "id": "3691f908",
   "metadata": {
    "execution": {
     "iopub.execute_input": "2022-11-17T20:08:16.359757Z",
     "iopub.status.busy": "2022-11-17T20:08:16.359439Z",
     "iopub.status.idle": "2022-11-17T20:08:16.365031Z",
     "shell.execute_reply": "2022-11-17T20:08:16.364041Z"
    },
    "id": "7Z3rNynhq1gr",
    "papermill": {
     "duration": 0.013581,
     "end_time": "2022-11-17T20:08:16.366885",
     "exception": false,
     "start_time": "2022-11-17T20:08:16.353304",
     "status": "completed"
    },
    "tags": []
   },
   "outputs": [],
   "source": [
    "transforms_time_mask = nn.Sequential(\n",
    "                torchaudio.transforms.TimeMasking(time_mask_param=10),\n",
    "            )\n",
    "\n",
    "transforms_freq_mask = nn.Sequential(\n",
    "                torchaudio.transforms.FrequencyMasking(freq_mask_param=10),\n",
    "            )\n",
    "\n",
    "flip_rate = 0.0 # probability of applying the horizontal flip and vertical flip \n",
    "fre_shift_rate = 0.0 # probability of applying the vertical shift\n",
    "\n",
    "time_mask_num = 0 # number of time masking\n",
    "freq_mask_num = 0 # number of frequency masking"
   ]
  },
  {
   "cell_type": "code",
   "execution_count": 5,
   "id": "2ef510ae",
   "metadata": {
    "execution": {
     "iopub.execute_input": "2022-11-17T20:08:16.379579Z",
     "iopub.status.busy": "2022-11-17T20:08:16.379293Z",
     "iopub.status.idle": "2022-11-17T20:08:16.390279Z",
     "shell.execute_reply": "2022-11-17T20:08:16.389368Z"
    },
    "id": "3kOMMsyagYWN",
    "papermill": {
     "duration": 0.020087,
     "end_time": "2022-11-17T20:08:16.392078",
     "exception": false,
     "start_time": "2022-11-17T20:08:16.371991",
     "status": "completed"
    },
    "tags": []
   },
   "outputs": [],
   "source": [
    "class Dataset(torch.utils.data.Dataset):\n",
    "    \"\"\"\n",
    "    dataset = Dataset(data_type, df)\n",
    "\n",
    "    img, y = dataset[i]\n",
    "      img (np.float32): 2 x 360 x 128\n",
    "      y (np.float32): label 0 or 1\n",
    "    \"\"\"\n",
    "    def __init__(self, data_type, df, tfms=False):\n",
    "        self.data_type = data_type\n",
    "        self.df = df\n",
    "        self.tfms = tfms\n",
    "\n",
    "    def __len__(self):\n",
    "        return len(self.df)\n",
    "\n",
    "    def __getitem__(self, i):\n",
    "        \"\"\"\n",
    "        i (int): get ith data\n",
    "        \"\"\"\n",
    "        r = self.df.iloc[i]\n",
    "        y = np.float32(r.target)\n",
    "        file_id = r.id\n",
    "\n",
    "        img = np.empty((2, 360, 128), dtype=np.float32)\n",
    "\n",
    "        filename = '%s/%s/%s.hdf5' % (di, self.data_type, file_id)\n",
    "        with h5py.File(filename, 'r') as f:\n",
    "            g = f[file_id]\n",
    "\n",
    "            for ch, s in enumerate(['H1', 'L1']):\n",
    "                a = g[s]['SFTs'][:, :4096] * 1e22  # Fourier coefficient complex64\n",
    "\n",
    "                p = a.real**2 + a.imag**2  # power\n",
    "                p /= np.mean(p)  # normalize\n",
    "                p = np.mean(p.reshape(360, 128, 32), axis=2)  # compress 4096 -> 128\n",
    "                img[ch] = p\n",
    "\n",
    "        if self.tfms:\n",
    "            if np.random.rand() <= flip_rate: # horizontal flip\n",
    "                img = np.flip(img, axis=1).copy()\n",
    "            if np.random.rand() <= flip_rate: # vertical flip\n",
    "                img = np.flip(img, axis=2).copy()\n",
    "            if np.random.rand() <= fre_shift_rate: # vertical shift\n",
    "                img = np.roll(img, np.random.randint(low=0, high=img.shape[1]), axis=1)\n",
    "            \n",
    "            img = torch.from_numpy(img)\n",
    "\n",
    "            for _ in range(time_mask_num): # tima masking\n",
    "                img = transforms_time_mask(img)\n",
    "            for _ in range(freq_mask_num): # frequency masking\n",
    "                img = transforms_freq_mask(img)\n",
    "        \n",
    "        else:\n",
    "            img = torch.from_numpy(img)\n",
    "                \n",
    "        return img, y"
   ]
  },
  {
   "cell_type": "markdown",
   "id": "d54f0abd",
   "metadata": {
    "papermill": {
     "duration": 0.004916,
     "end_time": "2022-11-17T20:08:16.401864",
     "exception": false,
     "start_time": "2022-11-17T20:08:16.396948",
     "status": "completed"
    },
    "tags": []
   },
   "source": [
    "# Audio Data Augmentation for G2Net."
   ]
  },
  {
   "cell_type": "markdown",
   "id": "6aaea5cc",
   "metadata": {
    "papermill": {
     "duration": 0.004704,
     "end_time": "2022-11-17T20:08:16.411508",
     "exception": false,
     "start_time": "2022-11-17T20:08:16.406804",
     "status": "completed"
    },
    "tags": []
   },
   "source": [
    "* horizontal flip\n",
    "* vertical flip\n",
    "* vertical shift\n",
    "* time masking*\n",
    "* frequency masking*\n",
    "\n",
    "*Reference  \n",
    "SpecAugment  \n",
    "https://arxiv.org/abs/1904.08779"
   ]
  },
  {
   "cell_type": "markdown",
   "id": "9310412b",
   "metadata": {
    "papermill": {
     "duration": 0.004713,
     "end_time": "2022-11-17T20:08:16.421103",
     "exception": false,
     "start_time": "2022-11-17T20:08:16.416390",
     "status": "completed"
    },
    "tags": []
   },
   "source": [
    "## Horizontal flip and Vertical flip "
   ]
  },
  {
   "cell_type": "code",
   "execution_count": 6,
   "id": "b284adf7",
   "metadata": {
    "execution": {
     "iopub.execute_input": "2022-11-17T20:08:16.432434Z",
     "iopub.status.busy": "2022-11-17T20:08:16.431660Z",
     "iopub.status.idle": "2022-11-17T20:08:17.503971Z",
     "shell.execute_reply": "2022-11-17T20:08:17.503038Z"
    },
    "papermill": {
     "duration": 1.081296,
     "end_time": "2022-11-17T20:08:17.507264",
     "exception": false,
     "start_time": "2022-11-17T20:08:16.425968",
     "status": "completed"
    },
    "tags": []
   },
   "outputs": [
    {
     "data": {
      "image/png": "[encoded data removed]",
      "text/plain": [
       "<Figure size 576x216 with 2 Axes>"
      ]
     },
     "metadata": {
      "needs_background": "light"
     },
     "output_type": "display_data"
    },
    {
     "data": {
      "image/png": "[encoded data removed]",
      "text/plain": [
       "<Figure size 576x216 with 2 Axes>"
      ]
     },
     "metadata": {
      "needs_background": "light"
     },
     "output_type": "display_data"
    }
   ],
   "source": [
    "dataset = Dataset('train', df, tfms=False)\n",
    "img, y = dataset[10]\n",
    "\n",
    "\n",
    "plt.figure(figsize=(8, 3))\n",
    "plt.title('Spectrogram')\n",
    "plt.xlabel('time')\n",
    "plt.ylabel('frequency')\n",
    "plt.imshow(img[0, 0:360])\n",
    "plt.colorbar()\n",
    "plt.show()\n",
    "\n",
    "\n",
    "flip_rate = 1.0 # probability of applying the horizontal flip and vertical flip \n",
    "\n",
    "dataset = Dataset('train', df, tfms=True)\n",
    "img, y = dataset[10]\n",
    "\n",
    "plt.figure(figsize=(8, 3))\n",
    "plt.title('Spectrogram')\n",
    "plt.xlabel('time')\n",
    "plt.ylabel('frequency')\n",
    "plt.imshow(img[0, 0:360])\n",
    "plt.colorbar()\n",
    "plt.show()"
   ]
  },
  {
   "cell_type": "markdown",
   "id": "616b5076",
   "metadata": {
    "papermill": {
     "duration": 0.006228,
     "end_time": "2022-11-17T20:08:17.520416",
     "exception": false,
     "start_time": "2022-11-17T20:08:17.514188",
     "status": "completed"
    },
    "tags": []
   },
   "source": [
    "## Vertical shift"
   ]
  },
  {
   "cell_type": "code",
   "execution_count": 7,
   "id": "f133b884",
   "metadata": {
    "execution": {
     "iopub.execute_input": "2022-11-17T20:08:17.533437Z",
     "iopub.status.busy": "2022-11-17T20:08:17.533117Z",
     "iopub.status.idle": "2022-11-17T20:08:18.457047Z",
     "shell.execute_reply": "2022-11-17T20:08:18.456140Z"
    },
    "id": "KKX7AmjTU8qI",
    "outputId": "448f6ad0-bae2-4e83-8028-c86fdd2fa17b",
    "papermill": {
     "duration": 0.932814,
     "end_time": "2022-11-17T20:08:18.459166",
     "exception": false,
     "start_time": "2022-11-17T20:08:17.526352",
     "status": "completed"
    },
    "tags": []
   },
   "outputs": [
    {
     "data": {
      "image/png": "[encoded data removed]",
      "text/plain": [
       "<Figure size 576x216 with 2 Axes>"
      ]
     },
     "metadata": {
      "needs_background": "light"
     },
     "output_type": "display_data"
    },
    {
     "data": {
      "image/png": "[encoded data removed]",
      "text/plain": [
       "<Figure size 576x216 with 2 Axes>"
      ]
     },
     "metadata": {
      "needs_background": "light"
     },
     "output_type": "display_data"
    }
   ],
   "source": [
    "dataset = Dataset('train', df, tfms=False)\n",
    "img, y = dataset[10]\n",
    "\n",
    "\n",
    "plt.figure(figsize=(8, 3))\n",
    "plt.title('Spectrogram')\n",
    "plt.xlabel('time')\n",
    "plt.ylabel('frequency')\n",
    "plt.imshow(img[0, 0:360])\n",
    "plt.colorbar()\n",
    "plt.show()\n",
    "\n",
    "\n",
    "flip_rate = 0.0 # probability of applying the horizontal flip and vertical flip \n",
    "fre_shift_rate = 1.0 # probability of applying the vertical shift\n",
    "\n",
    "dataset = Dataset('train', df, tfms=True)\n",
    "img, y = dataset[10]\n",
    "\n",
    "plt.figure(figsize=(8, 3))\n",
    "plt.title('Spectrogram')\n",
    "plt.xlabel('time')\n",
    "plt.ylabel('frequency')\n",
    "plt.imshow(img[0, 0:360])\n",
    "plt.colorbar()\n",
    "plt.show()"
   ]
  },
  {
   "cell_type": "markdown",
   "id": "bc3a7599",
   "metadata": {
    "papermill": {
     "duration": 0.007149,
     "end_time": "2022-11-17T20:08:18.473698",
     "exception": false,
     "start_time": "2022-11-17T20:08:18.466549",
     "status": "completed"
    },
    "tags": []
   },
   "source": [
    "## Time masking"
   ]
  },
  {
   "cell_type": "code",
   "execution_count": 8,
   "id": "f3778067",
   "metadata": {
    "execution": {
     "iopub.execute_input": "2022-11-17T20:08:18.489376Z",
     "iopub.status.busy": "2022-11-17T20:08:18.487942Z",
     "iopub.status.idle": "2022-11-17T20:08:19.433523Z",
     "shell.execute_reply": "2022-11-17T20:08:19.432577Z"
    },
    "papermill": {
     "duration": 0.955376,
     "end_time": "2022-11-17T20:08:19.435645",
     "exception": false,
     "start_time": "2022-11-17T20:08:18.480269",
     "status": "completed"
    },
    "tags": []
   },
   "outputs": [
    {
     "data": {
      "image/png": "[encoded data removed]",
      "text/plain": [
       "<Figure size 576x216 with 2 Axes>"
      ]
     },
     "metadata": {
      "needs_background": "light"
     },
     "output_type": "display_data"
    },
    {
     "data": {
      "image/png": "[encoded data removed]",
      "text/plain": [
       "<Figure size 576x216 with 2 Axes>"
      ]
     },
     "metadata": {
      "needs_background": "light"
     },
     "output_type": "display_data"
    }
   ],
   "source": [
    "dataset = Dataset('train', df, tfms=False)\n",
    "img, y = dataset[10]\n",
    "\n",
    "\n",
    "plt.figure(figsize=(8, 3))\n",
    "plt.title('Spectrogram')\n",
    "plt.xlabel('time')\n",
    "plt.ylabel('frequency')\n",
    "plt.imshow(img[0, 0:360])\n",
    "plt.colorbar()\n",
    "plt.show()\n",
    "\n",
    "\n",
    "flip_rate = 0.0 # probability of applying the horizontal flip and vertical flip \n",
    "fre_shift_rate = 0.0 # probability of applying the vertical shift\n",
    "time_mask_num = 3 # number of time masking\n",
    "\n",
    "dataset = Dataset('train', df, tfms=True)\n",
    "img, y = dataset[10]\n",
    "\n",
    "plt.figure(figsize=(8, 3))\n",
    "plt.title('Spectrogram')\n",
    "plt.xlabel('time')\n",
    "plt.ylabel('frequency')\n",
    "plt.imshow(img[0, 0:360])\n",
    "plt.colorbar()\n",
    "plt.show()"
   ]
  },
  {
   "cell_type": "markdown",
   "id": "abd9366d",
   "metadata": {
    "papermill": {
     "duration": 0.00744,
     "end_time": "2022-11-17T20:08:19.450920",
     "exception": false,
     "start_time": "2022-11-17T20:08:19.443480",
     "status": "completed"
    },
    "tags": []
   },
   "source": [
    "## Frequency masking"
   ]
  },
  {
   "cell_type": "code",
   "execution_count": 9,
   "id": "267153a9",
   "metadata": {
    "execution": {
     "iopub.execute_input": "2022-11-17T20:08:19.468644Z",
     "iopub.status.busy": "2022-11-17T20:08:19.467009Z",
     "iopub.status.idle": "2022-11-17T20:08:20.569833Z",
     "shell.execute_reply": "2022-11-17T20:08:20.568891Z"
    },
    "papermill": {
     "duration": 1.113631,
     "end_time": "2022-11-17T20:08:20.572057",
     "exception": false,
     "start_time": "2022-11-17T20:08:19.458426",
     "status": "completed"
    },
    "tags": []
   },
   "outputs": [
    {
     "data": {
      "image/png": "[encoded data removed]",
      "text/plain": [
       "<Figure size 576x216 with 2 Axes>"
      ]
     },
     "metadata": {
      "needs_background": "light"
     },
     "output_type": "display_data"
    },
    {
     "data": {
      "image/png": "[encoded data removed]",
      "text/plain": [
       "<Figure size 576x216 with 2 Axes>"
      ]
     },
     "metadata": {
      "needs_background": "light"
     },
     "output_type": "display_data"
    }
   ],
   "source": [
    "dataset = Dataset('train', df, tfms=False)\n",
    "img, y = dataset[10]\n",
    "\n",
    "\n",
    "plt.figure(figsize=(8, 3))\n",
    "plt.title('Spectrogram')\n",
    "plt.xlabel('time')\n",
    "plt.ylabel('frequency')\n",
    "plt.imshow(img[0, 0:360])\n",
    "plt.colorbar()\n",
    "plt.show()\n",
    "\n",
    "\n",
    "flip_rate = 0.0 # probability of applying the horizontal flip and vertical flip \n",
    "fre_shift_rate = 0.0 # probability of applying the vertical shift\n",
    "time_mask_num = 0 # number of time masking\n",
    "freq_mask_num = 3 # number of frequency masking\n",
    "\n",
    "dataset = Dataset('train', df, tfms=True)\n",
    "img, y = dataset[10]\n",
    "\n",
    "plt.figure(figsize=(8, 3))\n",
    "plt.title('Spectrogram')\n",
    "plt.xlabel('time')\n",
    "plt.ylabel('frequency')\n",
    "plt.imshow(img[0, 0:360])\n",
    "plt.colorbar()\n",
    "plt.show()"
   ]
  },
  {
   "cell_type": "markdown",
   "id": "d5b31184",
   "metadata": {
    "id": "ejqEYZTxgYWP",
    "papermill": {
     "duration": 0.008836,
     "end_time": "2022-11-17T20:08:20.589813",
     "exception": false,
     "start_time": "2022-11-17T20:08:20.580977",
     "status": "completed"
    },
    "tags": []
   },
   "source": [
    "# Model"
   ]
  },
  {
   "cell_type": "code",
   "execution_count": 10,
   "id": "577f81b8",
   "metadata": {
    "execution": {
     "iopub.execute_input": "2022-11-17T20:08:20.607934Z",
     "iopub.status.busy": "2022-11-17T20:08:20.607638Z",
     "iopub.status.idle": "2022-11-17T20:08:20.614056Z",
     "shell.execute_reply": "2022-11-17T20:08:20.613056Z"
    },
    "id": "W3JQE_UbgYWP",
    "papermill": {
     "duration": 0.017959,
     "end_time": "2022-11-17T20:08:20.616085",
     "exception": false,
     "start_time": "2022-11-17T20:08:20.598126",
     "status": "completed"
    },
    "tags": []
   },
   "outputs": [],
   "source": [
    "class Model(nn.Module):\n",
    "    def __init__(self, name, *, pretrained=False):\n",
    "        \"\"\"\n",
    "        name (str): timm model name, e.g. tf_efficientnet_b2_ns\n",
    "        \"\"\"\n",
    "        super().__init__()\n",
    "\n",
    "        # Use timm\n",
    "        model = timm.create_model(name, pretrained=pretrained, in_chans=2)\n",
    "\n",
    "        clsf = model.default_cfg['classifier']\n",
    "        n_features = model._modules[clsf].in_features\n",
    "        model._modules[clsf] = nn.Identity()\n",
    "\n",
    "        self.fc = nn.Linear(n_features, 1)\n",
    "        self.model = model\n",
    "\n",
    "    def forward(self, x):\n",
    "        x = self.model(x)\n",
    "        x = self.fc(x)\n",
    "        return x"
   ]
  },
  {
   "cell_type": "markdown",
   "id": "1a117c68",
   "metadata": {
    "id": "eO6YqnT0gYWQ",
    "papermill": {
     "duration": 0.008534,
     "end_time": "2022-11-17T20:08:20.633324",
     "exception": false,
     "start_time": "2022-11-17T20:08:20.624790",
     "status": "completed"
    },
    "tags": []
   },
   "source": [
    "# Predict and evaluate"
   ]
  },
  {
   "cell_type": "code",
   "execution_count": 11,
   "id": "53c98568",
   "metadata": {
    "execution": {
     "iopub.execute_input": "2022-11-17T20:08:20.651348Z",
     "iopub.status.busy": "2022-11-17T20:08:20.651062Z",
     "iopub.status.idle": "2022-11-17T20:08:20.662220Z",
     "shell.execute_reply": "2022-11-17T20:08:20.661135Z"
    },
    "id": "B-xWfjWYgYWR",
    "papermill": {
     "duration": 0.022955,
     "end_time": "2022-11-17T20:08:20.664614",
     "exception": false,
     "start_time": "2022-11-17T20:08:20.641659",
     "status": "completed"
    },
    "tags": []
   },
   "outputs": [],
   "source": [
    "def evaluate(model, loader_val, *, compute_score=True, pbar=None):\n",
    "    \"\"\"\n",
    "    Predict and compute loss and score\n",
    "    \"\"\"\n",
    "    tb = time.time()\n",
    "    was_training = model.training\n",
    "    model.eval()\n",
    "\n",
    "    loss_sum = 0.0\n",
    "    n_sum = 0\n",
    "    y_all = []\n",
    "    y_pred_all = []\n",
    "\n",
    "    if pbar is not None:\n",
    "        pbar = tqdm(desc='Predict', nrows=78, total=pbar)\n",
    "\n",
    "    for img, y in loader_val:\n",
    "        n = y.size(0)\n",
    "        img = img.to(device)\n",
    "        y = y.to(device)\n",
    "\n",
    "        with torch.no_grad():\n",
    "                y_pred = model(img.to(device))\n",
    "\n",
    "        loss = criterion(y_pred.view(-1), y)\n",
    "\n",
    "        n_sum += n\n",
    "        loss_sum += n * loss.item()\n",
    "\n",
    "        y_all.append(y.cpu().detach().numpy())\n",
    "        y_pred_all.append(y_pred.sigmoid().squeeze().cpu().detach().numpy())\n",
    "\n",
    "        if pbar is not None:\n",
    "            pbar.update(len(img))\n",
    "        \n",
    "        del loss, y_pred, img, y\n",
    "\n",
    "    loss_val = loss_sum / n_sum\n",
    "\n",
    "    y = np.concatenate(y_all)\n",
    "    y_pred = np.concatenate(y_pred_all)\n",
    "\n",
    "    score = roc_auc_score(y, y_pred) if compute_score else None\n",
    "\n",
    "    ret = {'loss': loss_val,\n",
    "           'score': score,\n",
    "           'y': y,\n",
    "           'y_pred': y_pred,\n",
    "           'time': time.time() - tb}\n",
    "    \n",
    "    model.train(was_training)  # back to train from eval if necessary\n",
    "\n",
    "    return ret"
   ]
  },
  {
   "cell_type": "markdown",
   "id": "ff961841",
   "metadata": {
    "id": "3arVeLkRgYWS",
    "papermill": {
     "duration": 0.008579,
     "end_time": "2022-11-17T20:08:20.681387",
     "exception": false,
     "start_time": "2022-11-17T20:08:20.672808",
     "status": "completed"
    },
    "tags": []
   },
   "source": [
    "# Train"
   ]
  },
  {
   "cell_type": "code",
   "execution_count": 12,
   "id": "d67e3350",
   "metadata": {
    "execution": {
     "iopub.execute_input": "2022-11-17T20:08:20.699335Z",
     "iopub.status.busy": "2022-11-17T20:08:20.699054Z",
     "iopub.status.idle": "2022-11-17T23:57:14.668522Z",
     "shell.execute_reply": "2022-11-17T23:57:14.667372Z"
    },
    "id": "tkWJ1eXpgYWS",
    "outputId": "ed0dd2e0-114f-4dd5-c5a6-2d8511e78359",
    "papermill": {
     "duration": 13733.982004,
     "end_time": "2022-11-17T23:57:14.671691",
     "exception": false,
     "start_time": "2022-11-17T20:08:20.689687",
     "status": "completed"
    },
    "tags": []
   },
   "outputs": [
    {
     "name": "stdout",
     "output_type": "stream",
     "text": [
      "Fold 0/5\n"
     ]
    },
    {
     "name": "stderr",
     "output_type": "stream",
     "text": [
      "Downloading: \"https://github.com/rwightman/pytorch-image-models/releases/download/v0.1-weights/tf_efficientnet_b6_ns-51548356.pth\" to /root/.cache/torch/hub/checkpoints/tf_efficientnet_b6_ns-51548356.pth\n"
     ]
    },
    {
     "name": "stdout",
     "output_type": "stream",
     "text": [
      "Epoch   loss          score   lr\n",
      "Epoch 1 0.6434 0.6465 0.5489  4.00e-04  1.79 min\n",
      "Epoch 2 0.6149 0.5606 0.6170  3.98e-04  3.60 min\n",
      "Epoch 3 0.5675 0.5394 0.7053  3.93e-04  5.41 min\n",
      "Epoch 4 0.5596 0.5785 0.6885  3.85e-04  7.20 min\n",
      "Epoch 5 0.5354 0.4960 0.7072  3.73e-04  9.05 min\n",
      "Epoch 6 0.5136 0.4944 0.7790  3.59e-04  10.89 min\n",
      "Epoch 7 0.5059 0.5332 0.7787  3.42e-04  12.73 min\n",
      "Epoch 8 0.5119 0.4973 0.7695  3.22e-04  14.58 min\n",
      "Epoch 9 0.4989 0.5034 0.7563  3.00e-04  16.44 min\n",
      "Epoch 10 0.4856 0.5238 0.7401  2.77e-04  18.30 min\n",
      "Epoch 11 0.5049 0.4854 0.7274  2.52e-04  20.14 min\n",
      "Epoch 12 0.4855 0.4945 0.7312  2.27e-04  21.97 min\n",
      "Epoch 13 0.4984 0.4977 0.7328  2.00e-04  23.77 min\n",
      "Epoch 14 0.4872 0.4866 0.7303  1.74e-04  25.59 min\n",
      "Epoch 15 0.4690 0.4859 0.7123  1.49e-04  27.41 min\n",
      "Epoch 16 0.4655 0.4969 0.7135  1.24e-04  29.23 min\n",
      "Epoch 17 0.4637 0.4950 0.7154  1.01e-04  31.06 min\n",
      "Epoch 18 0.4711 0.4949 0.7088  7.91e-05  32.90 min\n",
      "Epoch 19 0.4603 0.5176 0.6983  5.94e-05  34.75 min\n",
      "Epoch 20 0.4514 0.5008 0.7012  4.22e-05  36.58 min\n",
      "Epoch 21 0.4424 0.5088 0.6971  2.77e-05  38.42 min\n",
      "Epoch 22 0.4496 0.5157 0.6914  1.62e-05  40.29 min\n",
      "Epoch 23 0.4560 0.5042 0.6920  7.80e-06  42.17 min\n",
      "Epoch 24 0.4743 0.5071 0.6860  2.71e-06  44.03 min\n",
      "Epoch 25 0.4662 0.5093 0.6882  1.00e-06  45.89 min\n",
      "Training done 45.89 min total, 9.29 min val\n",
      "model0.pytorch written\n",
      "Fold 1/5\n",
      "Epoch   loss          score   lr\n",
      "Epoch 1 0.6702 0.6510 0.5532  4.00e-04  1.87 min\n",
      "Epoch 2 0.6067 0.6318 0.6806  3.98e-04  3.74 min\n",
      "Epoch 3 0.6079 0.5303 0.7685  3.93e-04  5.58 min\n",
      "Epoch 4 0.5307 0.5020 0.7443  3.85e-04  7.41 min\n",
      "Epoch 5 0.5233 0.4882 0.7614  3.73e-04  9.23 min\n",
      "Epoch 6 0.5176 0.5659 0.7608  3.59e-04  11.04 min\n",
      "Epoch 7 0.5250 0.4685 0.7805  3.42e-04  12.85 min\n",
      "Epoch 8 0.5185 0.5017 0.7751  3.22e-04  14.67 min\n",
      "Epoch 9 0.5064 0.5144 0.7943  3.00e-04  16.45 min\n",
      "Epoch 10 0.4967 0.5365 0.8209  2.77e-04  18.25 min\n",
      "Epoch 11 0.5083 0.4715 0.8292  2.52e-04  20.13 min\n",
      "Epoch 12 0.4937 0.4489 0.8230  2.27e-04  21.93 min\n",
      "Epoch 13 0.5139 0.4735 0.8182  2.00e-04  23.74 min\n",
      "Epoch 14 0.4956 0.4601 0.8143  1.74e-04  25.55 min\n",
      "Epoch 15 0.4838 0.4544 0.8074  1.49e-04  27.34 min\n",
      "Epoch 16 0.4780 0.4452 0.8146  1.24e-04  29.12 min\n",
      "Epoch 17 0.4623 0.4383 0.8134  1.01e-04  30.97 min\n",
      "Epoch 18 0.4829 0.4476 0.8056  7.91e-05  32.80 min\n",
      "Epoch 19 0.4842 0.4460 0.8008  5.94e-05  34.58 min\n",
      "Epoch 20 0.4756 0.4510 0.8068  4.22e-05  36.38 min\n",
      "Epoch 21 0.4756 0.4486 0.8041  2.77e-05  38.17 min\n",
      "Epoch 22 0.4716 0.4504 0.8035  1.62e-05  39.98 min\n",
      "Epoch 23 0.4679 0.4511 0.8035  7.80e-06  41.76 min\n",
      "Epoch 24 0.4740 0.4511 0.8077  2.71e-06  43.58 min\n",
      "Epoch 25 0.4610 0.4512 0.8059  1.00e-06  45.39 min\n",
      "Training done 45.39 min total, 9.08 min val\n",
      "model1.pytorch written\n",
      "Fold 2/5\n",
      "Epoch   loss          score   lr\n",
      "Epoch 1 0.6597 0.6631 0.6306  4.00e-04  1.83 min\n",
      "Epoch 2 0.5759 0.5697 0.5759  3.98e-04  3.68 min\n",
      "Epoch 3 0.5728 0.4913 0.7274  3.93e-04  5.51 min\n",
      "Epoch 4 0.5485 0.4855 0.7791  3.85e-04  7.36 min\n",
      "Epoch 5 0.5340 0.4773 0.7278  3.73e-04  9.17 min\n",
      "Epoch 6 0.5393 0.4944 0.7090  3.59e-04  11.07 min\n",
      "Epoch 7 0.5158 0.5045 0.7244  3.42e-04  12.91 min\n",
      "Epoch 8 0.5242 0.5340 0.7353  3.22e-04  14.79 min\n",
      "Epoch 9 0.5159 0.4833 0.7531  3.00e-04  16.76 min\n",
      "Epoch 10 0.4914 0.4840 0.7449  2.77e-04  18.62 min\n",
      "Epoch 11 0.5242 0.4630 0.7527  2.52e-04  20.48 min\n",
      "Epoch 12 0.4887 0.4730 0.7295  2.27e-04  22.32 min\n",
      "Epoch 13 0.4954 0.4995 0.7370  2.00e-04  24.17 min\n",
      "Epoch 14 0.4874 0.5006 0.7288  1.74e-04  26.02 min\n",
      "Epoch 15 0.4908 0.5014 0.7254  1.49e-04  27.85 min\n",
      "Epoch 16 0.4850 0.4967 0.7250  1.24e-04  29.67 min\n",
      "Epoch 17 0.4800 0.4926 0.7233  1.01e-04  31.49 min\n",
      "Epoch 18 0.4713 0.5077 0.7298  7.91e-05  33.31 min\n",
      "Epoch 19 0.4604 0.5160 0.7421  5.94e-05  35.12 min\n",
      "Epoch 20 0.4508 0.5100 0.7360  4.22e-05  36.93 min\n",
      "Epoch 21 0.4664 0.5098 0.7305  2.77e-05  38.76 min\n",
      "Epoch 22 0.4782 0.5134 0.7326  1.62e-05  40.59 min\n",
      "Epoch 23 0.4634 0.5115 0.7329  7.80e-06  42.47 min\n",
      "Epoch 24 0.4691 0.5124 0.7308  2.71e-06  44.33 min\n",
      "Epoch 25 0.4695 0.5070 0.7308  1.00e-06  46.22 min\n",
      "Training done 46.22 min total, 9.28 min val\n",
      "model2.pytorch written\n",
      "Fold 3/5\n",
      "Epoch   loss          score   lr\n",
      "Epoch 1 0.6625 0.6456 0.4363  4.00e-04  1.80 min\n",
      "Epoch 2 0.5962 0.7387 0.5747  3.98e-04  3.59 min\n",
      "Epoch 3 0.5659 0.4778 0.7559  3.93e-04  5.43 min\n",
      "Epoch 4 0.5747 0.5047 0.7419  3.85e-04  7.24 min\n",
      "Epoch 5 0.5439 0.4999 0.7941  3.73e-04  9.06 min\n",
      "Epoch 6 0.5205 0.4666 0.8206  3.59e-04  10.91 min\n",
      "Epoch 7 0.5059 0.4526 0.8259  3.42e-04  12.73 min\n",
      "Epoch 8 0.5189 0.4745 0.7888  3.22e-04  14.58 min\n",
      "Epoch 9 0.5144 0.4741 0.7681  3.00e-04  16.42 min\n",
      "Epoch 10 0.5118 0.4617 0.7822  2.77e-04  18.24 min\n",
      "Epoch 11 0.4976 0.4559 0.7975  2.52e-04  20.07 min\n",
      "Epoch 12 0.4954 0.4847 0.7778  2.27e-04  21.87 min\n",
      "Epoch 13 0.5035 0.5000 0.7787  2.00e-04  23.68 min\n",
      "Epoch 14 0.4952 0.4844 0.7947  1.74e-04  25.50 min\n",
      "Epoch 15 0.4903 0.4790 0.8138  1.49e-04  27.33 min\n",
      "Epoch 16 0.4816 0.4952 0.8013  1.24e-04  29.12 min\n",
      "Epoch 17 0.4824 0.4747 0.8000  1.01e-04  30.95 min\n",
      "Epoch 18 0.4926 0.4722 0.7950  7.91e-05  32.76 min\n",
      "Epoch 19 0.4678 0.4803 0.8037  5.94e-05  34.56 min\n",
      "Epoch 20 0.4952 0.4768 0.8047  4.22e-05  36.43 min\n",
      "Epoch 21 0.4671 0.4705 0.8056  2.77e-05  38.27 min\n",
      "Epoch 22 0.4781 0.4724 0.7994  1.62e-05  40.11 min\n",
      "Epoch 23 0.4682 0.4707 0.8009  7.80e-06  41.94 min\n",
      "Epoch 24 0.4617 0.4730 0.8022  2.71e-06  43.76 min\n",
      "Epoch 25 0.4833 0.4704 0.8037  1.00e-06  45.60 min\n",
      "Training done 45.60 min total, 9.21 min val\n",
      "model3.pytorch written\n",
      "Fold 4/5\n",
      "Epoch   loss          score   lr\n",
      "Epoch 1 0.6696 0.6471 0.5430  4.00e-04  1.81 min\n",
      "Epoch 2 0.5848 0.6336 0.7705  3.98e-04  3.60 min\n",
      "Epoch 3 0.6149 0.5871 0.6599  3.93e-04  5.42 min\n",
      "Epoch 4 0.5502 0.5322 0.7596  3.85e-04  7.23 min\n",
      "Epoch 5 0.5601 0.5277 0.7729  3.73e-04  9.04 min\n",
      "Epoch 6 0.5420 0.5132 0.7384  3.59e-04  10.88 min\n",
      "Epoch 7 0.5371 0.4810 0.7647  3.42e-04  12.75 min\n",
      "Epoch 8 0.5038 0.4854 0.7581  3.22e-04  14.59 min\n",
      "Epoch 9 0.4961 0.4872 0.7671  3.00e-04  16.43 min\n",
      "Epoch 10 0.5085 0.5079 0.7563  2.77e-04  18.26 min\n",
      "Epoch 11 0.5067 0.5091 0.7714  2.52e-04  20.10 min\n",
      "Epoch 12 0.4870 0.5055 0.7877  2.27e-04  21.92 min\n",
      "Epoch 13 0.4988 0.4958 0.8176  2.00e-04  23.71 min\n",
      "Epoch 14 0.4958 0.4980 0.8004  1.74e-04  25.52 min\n",
      "Epoch 15 0.4824 0.4936 0.8076  1.49e-04  27.42 min\n",
      "Epoch 16 0.4739 0.4952 0.8067  1.24e-04  29.21 min\n",
      "Epoch 17 0.4863 0.4947 0.8010  1.01e-04  31.01 min\n",
      "Epoch 18 0.4738 0.4912 0.7989  7.91e-05  32.85 min\n",
      "Epoch 19 0.4728 0.4899 0.7998  5.94e-05  34.66 min\n",
      "Epoch 20 0.4577 0.4879 0.8115  4.22e-05  36.46 min\n",
      "Epoch 21 0.4685 0.4891 0.8067  2.77e-05  38.26 min\n",
      "Epoch 22 0.4649 0.4889 0.8094  1.62e-05  40.04 min\n",
      "Epoch 23 0.4622 0.4892 0.8121  7.80e-06  41.83 min\n",
      "Epoch 24 0.4589 0.4897 0.8076  2.71e-06  43.62 min\n",
      "Epoch 25 0.4629 0.4894 0.8124  1.00e-06  45.43 min\n",
      "Training done 45.43 min total, 9.13 min val\n",
      "model4.pytorch written\n"
     ]
    }
   ],
   "source": [
    "model_name = 'tf_efficientnet_b6_ns'\n",
    "nfold = 5\n",
    "kfold = KFold(n_splits=nfold, random_state=42, shuffle=True)\n",
    "\n",
    "epochs = 25\n",
    "batch_size = 32\n",
    "num_workers = 2\n",
    "weight_decay = 1e-6\n",
    "max_grad_norm = 1000\n",
    "\n",
    "lr_max = 4e-4\n",
    "epochs_warmup = 1.0\n",
    "\n",
    "\n",
    "## setting of audio data augmentation \n",
    "flip_rate = 0.5 # probability of applying the horizontal flip and vertical flip \n",
    "fre_shift_rate = 1.0 # probability of applying the vertical shift\n",
    "time_mask_num = 1 # number of time masking\n",
    "freq_mask_num = 2 # number of frequency masking\n",
    "\n",
    "for ifold, (idx_train, idx_test) in enumerate(kfold.split(df)):\n",
    "    print('Fold %d/%d' % (ifold, nfold))\n",
    "    torch.manual_seed(42 + ifold + 1)\n",
    "\n",
    "    # Train - val split\n",
    "    dataset_train = Dataset('train', df.iloc[idx_train], tfms=True)\n",
    "    dataset_val = Dataset('train', df.iloc[idx_test])\n",
    "\n",
    "    loader_train = torch.utils.data.DataLoader(dataset_train, batch_size=batch_size,\n",
    "                     num_workers=num_workers, pin_memory=True, shuffle=True, drop_last=True)\n",
    "    loader_val = torch.utils.data.DataLoader(dataset_val, batch_size=batch_size,\n",
    "                     num_workers=num_workers, pin_memory=True)\n",
    "\n",
    "    # Model and optimizer\n",
    "    model = Model(model_name, pretrained=True)\n",
    "    model.to(device)\n",
    "    model.train()\n",
    "\n",
    "    optimizer = torch.optim.AdamW(model.parameters(), lr=lr_max, weight_decay=weight_decay)\n",
    "\n",
    "    # Learning-rate schedule\n",
    "    nbatch = len(loader_train)\n",
    "    warmup = epochs_warmup * nbatch  # number of warmup steps\n",
    "    nsteps = epochs * nbatch        # number of total steps\n",
    "\n",
    "    scheduler = CosineLRScheduler(optimizer,\n",
    "                  warmup_t=warmup, warmup_lr_init=0.0, warmup_prefix=True, # 1 epoch of warmup\n",
    "                  t_initial=(nsteps - warmup), lr_min=1e-6)                # 3 epochs of cosine\n",
    "    \n",
    "    time_val = 0.0\n",
    "    lrs = []\n",
    "\n",
    "    tb = time.time()\n",
    "    print('Epoch   loss          score   lr')\n",
    "    for iepoch in range(epochs):\n",
    "        loss_sum = 0.0\n",
    "        n_sum = 0\n",
    "\n",
    "        # Train\n",
    "        for ibatch, (img, y) in enumerate(loader_train):\n",
    "            n = y.size(0)\n",
    "            img = img.to(device)\n",
    "            y = y.to(device)\n",
    "\n",
    "            optimizer.zero_grad()\n",
    "\n",
    "            y_pred = model(img)\n",
    "            loss = criterion(y_pred.view(-1), y)\n",
    "\n",
    "            loss_train = loss.item()\n",
    "            loss_sum += n * loss_train\n",
    "            n_sum += n\n",
    "\n",
    "            loss.backward()\n",
    "\n",
    "            grad_norm = torch.nn.utils.clip_grad_norm_(model.parameters(),\n",
    "                                                       max_grad_norm)\n",
    "            optimizer.step()\n",
    "            \n",
    "            scheduler.step(iepoch * nbatch + ibatch + 1)\n",
    "            lrs.append(optimizer.param_groups[0]['lr'])            \n",
    "\n",
    "        # Evaluate\n",
    "        val = evaluate(model, loader_val)\n",
    "        time_val += val['time']\n",
    "        loss_train = loss_sum / n_sum\n",
    "        lr_now = optimizer.param_groups[0]['lr']\n",
    "        dt = (time.time() - tb) / 60\n",
    "        print('Epoch %d %.4f %.4f %.4f  %.2e  %.2f min' %\n",
    "              (iepoch + 1, loss_train, val['loss'], val['score'], lr_now, dt))\n",
    "\n",
    "    dt = time.time() - tb\n",
    "    print('Training done %.2f min total, %.2f min val' % (dt / 60, time_val / 60))\n",
    "\n",
    "    # Save model\n",
    "    ofilename = 'model%d.pytorch' % ifold\n",
    "    torch.save(model.state_dict(), ofilename)\n",
    "    print(ofilename, 'written')\n",
    "\n",
    "#     break  # 1 fold only"
   ]
  },
  {
   "cell_type": "code",
   "execution_count": 13,
   "id": "b22ab1a6",
   "metadata": {
    "execution": {
     "iopub.execute_input": "2022-11-17T23:57:14.707533Z",
     "iopub.status.busy": "2022-11-17T23:57:14.706694Z",
     "iopub.status.idle": "2022-11-17T23:57:14.943347Z",
     "shell.execute_reply": "2022-11-17T23:57:14.942474Z"
    },
    "id": "gXnX0qHogYWT",
    "papermill": {
     "duration": 0.258539,
     "end_time": "2022-11-17T23:57:14.947773",
     "exception": false,
     "start_time": "2022-11-17T23:57:14.689234",
     "status": "completed"
    },
    "tags": []
   },
   "outputs": [
    {
     "data": {
      "image/png": "[encoded data removed]",
      "text/plain": [
       "<Figure size 432x288 with 1 Axes>"
      ]
     },
     "metadata": {
      "needs_background": "light"
     },
     "output_type": "display_data"
    }
   ],
   "source": [
    "plt.title('LR Schedule: Cosine with linear warmup')\n",
    "plt.xlabel('steps')\n",
    "plt.ylabel('learning rate')\n",
    "plt.plot(lrs)\n",
    "plt.show()"
   ]
  },
  {
   "cell_type": "markdown",
   "id": "a958fc7c",
   "metadata": {
    "id": "xRXxBCwRgYWU",
    "papermill": {
     "duration": 0.015597,
     "end_time": "2022-11-17T23:57:14.980828",
     "exception": false,
     "start_time": "2022-11-17T23:57:14.965231",
     "status": "completed"
    },
    "tags": []
   },
   "source": [
    "# Predict and submit"
   ]
  },
  {
   "cell_type": "code",
   "execution_count": 14,
   "id": "c6e93373",
   "metadata": {
    "execution": {
     "iopub.execute_input": "2022-11-17T23:57:15.016447Z",
     "iopub.status.busy": "2022-11-17T23:57:15.016120Z",
     "iopub.status.idle": "2022-11-18T01:50:37.142807Z",
     "shell.execute_reply": "2022-11-18T01:50:37.141004Z"
    },
    "id": "FMAAA0_pgYWV",
    "papermill": {
     "duration": 6802.152189,
     "end_time": "2022-11-18T01:50:37.149191",
     "exception": false,
     "start_time": "2022-11-17T23:57:14.997002",
     "status": "completed"
    },
    "tags": []
   },
   "outputs": [
    {
     "data": {
      "application/vnd.jupyter.widget-view+json": {
       "model_id": "bd0fd183e04e49ff91cb0c9ed3cc3feb",
       "version_major": 2,
       "version_minor": 0
      },
      "text/plain": [
       "Predict:   0%|          | 0/7975 [00:00<?, ?it/s]"
      ]
     },
     "metadata": {},
     "output_type": "display_data"
    },
    {
     "data": {
      "application/vnd.jupyter.widget-view+json": {
       "model_id": "0cc9ffa1266245b1b485d31c0437a59d",
       "version_major": 2,
       "version_minor": 0
      },
      "text/plain": [
       "Predict:   0%|          | 0/7975 [00:00<?, ?it/s]"
      ]
     },
     "metadata": {},
     "output_type": "display_data"
    },
    {
     "data": {
      "application/vnd.jupyter.widget-view+json": {
       "model_id": "1e305323ef9a4f989eee728c289b26b8",
       "version_major": 2,
       "version_minor": 0
      },
      "text/plain": [
       "Predict:   0%|          | 0/7975 [00:00<?, ?it/s]"
      ]
     },
     "metadata": {},
     "output_type": "display_data"
    },
    {
     "data": {
      "application/vnd.jupyter.widget-view+json": {
       "model_id": "687dd57b7fbc45038ac531d1d6a1d6e4",
       "version_major": 2,
       "version_minor": 0
      },
      "text/plain": [
       "Predict:   0%|          | 0/7975 [00:00<?, ?it/s]"
      ]
     },
     "metadata": {},
     "output_type": "display_data"
    },
    {
     "data": {
      "application/vnd.jupyter.widget-view+json": {
       "model_id": "62a2db3663ae4e18b6c2d9d67e43ae3d",
       "version_major": 2,
       "version_minor": 0
      },
      "text/plain": [
       "Predict:   0%|          | 0/7975 [00:00<?, ?it/s]"
      ]
     },
     "metadata": {},
     "output_type": "display_data"
    },
    {
     "name": "stdout",
     "output_type": "stream",
     "text": [
      "target range [0.39, 1.00]\n"
     ]
    }
   ],
   "source": [
    "submit = pd.read_csv(di + '/sample_submission.csv')\n",
    "if COLAB == False:\n",
    "    # Load model (if necessary)\n",
    "    \n",
    "    submit['target'] = 0\n",
    "    for i in range(5):\n",
    "        model = Model(model_name, pretrained=False)\n",
    "        filename = f'model{i}.pytorch'\n",
    "        model.to(device)\n",
    "        model.load_state_dict(torch.load(filename, map_location=device))\n",
    "        model.eval()\n",
    "\n",
    "        # Predict\n",
    "        dataset_test = Dataset('test', submit)\n",
    "        loader_test = torch.utils.data.DataLoader(dataset_test, batch_size=64,\n",
    "                                                num_workers=num_workers, pin_memory=True)\n",
    "\n",
    "        test = evaluate(model, loader_test, compute_score=False, pbar=len(submit))\n",
    "\n",
    "        # Write prediction\n",
    "        submit['target'] += test['y_pred']/5\n",
    "submit.to_csv('submission-5folds.csv', index=False)\n",
    "print('target range [%.2f, %.2f]' % (submit['target'].min(), submit['target'].max()))"
   ]
  }
 ],
 "metadata": {
  "kernelspec": {
   "display_name": "Python 3",
   "language": "python",
   "name": "python3"
  },
  "language_info": {
   "codemirror_mode": {
    "name": "ipython",
    "version": 3
   },
   "file_extension": ".py",
   "mimetype": "text/x-python",
   "name": "python",
   "nbconvert_exporter": "python",
   "pygments_lexer": "ipython3",
   "version": "3.7.12"
  },
  "papermill": {
   "default_parameters": {},
   "duration": 20568.167961,
   "end_time": "2022-11-18T01:50:40.748486",
   "environment_variables": {},
   "exception": null,
   "input_path": "__notebook__.ipynb",
   "output_path": "__notebook__.ipynb",
   "parameters": {},
   "start_time": "2022-11-17T20:07:52.580525",
   "version": "2.3.4"
  },
  "widgets": {
   "application/vnd.jupyter.widget-state+json": {
    "state": {
     "08f11220043c4ca3af5c78b2df400492": {
      "model_module": "@jupyter-widgets/controls",
      "model_module_version": "1.5.0",
      "model_name": "DescriptionStyleModel",
      "state": {
       "_model_module": "@jupyter-widgets/controls",
       "_model_module_version": "1.5.0",
       "_model_name": "DescriptionStyleModel",
       "_view_count": null,
       "_view_module": "@jupyter-widgets/base",
       "_view_module_version": "1.2.0",
       "_view_name": "StyleView",
       "description_width": ""
      }
     },
     "0b7f01d02e224d4ea29c897dd022fb1d": {
      "model_module": "@jupyter-widgets/controls",
      "model_module_version": "1.5.0",
      "model_name": "FloatProgressModel",
      "state": {
       "_dom_classes": [],
       "_model_module": "@jupyter-widgets/controls",
       "_model_module_version": "1.5.0",
       "_model_name": "FloatProgressModel",
       "_view_count": null,
       "_view_module": "@jupyter-widgets/controls",
       "_view_module_version": "1.5.0",
       "_view_name": "ProgressView",
       "bar_style": "success",
       "description": "",
       "description_tooltip": null,
       "layout": "IPY_MODEL_20cdea3d252d48668217239d3eb0bcb6",
       "max": 7975.0,
       "min": 0.0,
       "orientation": "horizontal",
       "style": "IPY_MODEL_accfc1569e55463989d6bb9d0a55d5d3",
       "value": 7975.0
      }
     },
     "0cc9ffa1266245b1b485d31c0437a59d": {
      "model_module": "@jupyter-widgets/controls",
      "model_module_version": "1.5.0",
      "model_name": "HBoxModel",
      "state": {
       "_dom_classes": [],
       "_model_module": "@jupyter-widgets/controls",
       "_model_module_version": "1.5.0",
       "_model_name": "HBoxModel",
       "_view_count": null,
       "_view_module": "@jupyter-widgets/controls",
       "_view_module_version": "1.5.0",
       "_view_name": "HBoxView",
       "box_style": "",
       "children": [
        "IPY_MODEL_3d71e0e69fcd4457ae7e5b496b371fc7",
        "IPY_MODEL_0b7f01d02e224d4ea29c897dd022fb1d",
        "IPY_MODEL_7842be216a014d229c5c8e90146ab325"
       ],
       "layout": "IPY_MODEL_0d2a30793b824891bf6427a9ba429510"
      }
     },
     "0ccdc188cc1247f0a4c3cc64d38dec11": {
      "model_module": "@jupyter-widgets/base",
      "model_module_version": "1.2.0",
      "model_name": "LayoutModel",
      "state": {
       "_model_module": "@jupyter-widgets/base",
       "_model_module_version": "1.2.0",
       "_model_name": "LayoutModel",
       "_view_count": null,
       "_view_module": "@jupyter-widgets/base",
       "_view_module_version": "1.2.0",
       "_view_name": "LayoutView",
       "align_content": null,
       "align_items": null,
       "align_self": null,
       "border": null,
       "bottom": null,
       "display": null,
       "flex": null,
       "flex_flow": null,
       "grid_area": null,
       "grid_auto_columns": null,
       "grid_auto_flow": null,
       "grid_auto_rows": null,
       "grid_column": null,
       "grid_gap": null,
       "grid_row": null,
       "grid_template_areas": null,
       "grid_template_columns": null,
       "grid_template_rows": null,
       "height": null,
       "justify_content": null,
       "justify_items": null,
       "left": null,
       "margin": null,
       "max_height": null,
       "max_width": null,
       "min_height": null,
       "min_width": null,
       "object_fit": null,
       "object_position": null,
       "order": null,
       "overflow": null,
       "overflow_x": null,
       "overflow_y": null,
       "padding": null,
       "right": null,
       "top": null,
       "visibility": null,
       "width": null
      }
     },
     "0d2a30793b824891bf6427a9ba429510": {
      "model_module": "@jupyter-widgets/base",
      "model_module_version": "1.2.0",
      "model_name": "LayoutModel",
      "state": {
       "_model_module": "@jupyter-widgets/base",
       "_model_module_version": "1.2.0",
       "_model_name": "LayoutModel",
       "_view_count": null,
       "_view_module": "@jupyter-widgets/base",
       "_view_module_version": "1.2.0",
       "_view_name": "LayoutView",
       "align_content": null,
       "align_items": null,
       "align_self": null,
       "border": null,
       "bottom": null,
       "display": null,
       "flex": null,
       "flex_flow": null,
       "grid_area": null,
       "grid_auto_columns": null,
       "grid_auto_flow": null,
       "grid_auto_rows": null,
       "grid_column": null,
       "grid_gap": null,
       "grid_row": null,
       "grid_template_areas": null,
       "grid_template_columns": null,
       "grid_template_rows": null,
       "height": null,
       "justify_content": null,
       "justify_items": null,
       "left": null,
       "margin": null,
       "max_height": null,
       "max_width": null,
       "min_height": null,
       "min_width": null,
       "object_fit": null,
       "object_position": null,
       "order": null,
       "overflow": null,
       "overflow_x": null,
       "overflow_y": null,
       "padding": null,
       "right": null,
       "top": null,
       "visibility": null,
       "width": null
      }
     },
     "0e5900c475bb47a98127203d86021245": {
      "model_module": "@jupyter-widgets/controls",
      "model_module_version": "1.5.0",
      "model_name": "HTMLModel",
      "state": {
       "_dom_classes": [],
       "_model_module": "@jupyter-widgets/controls",
       "_model_module_version": "1.5.0",
       "_model_name": "HTMLModel",
       "_view_count": null,
       "_view_module": "@jupyter-widgets/controls",
       "_view_module_version": "1.5.0",
       "_view_name": "HTMLView",
       "description": "",
       "description_tooltip": null,
       "layout": "IPY_MODEL_d71fafba1a7645e38f5cc0cfc0892612",
       "placeholder": "​",
       "style": "IPY_MODEL_f8e2d7950a8f424b842c9a9f0e6c45df",
       "value": " 7975/7975 [22:26&lt;00:00,  5.75it/s]"
      }
     },
     "13cc4cd0e912429b8b3ebb85e2930021": {
      "model_module": "@jupyter-widgets/controls",
      "model_module_version": "1.5.0",
      "model_name": "FloatProgressModel",
      "state": {
       "_dom_classes": [],
       "_model_module": "@jupyter-widgets/controls",
       "_model_module_version": "1.5.0",
       "_model_name": "FloatProgressModel",
       "_view_count": null,
       "_view_module": "@jupyter-widgets/controls",
       "_view_module_version": "1.5.0",
       "_view_name": "ProgressView",
       "bar_style": "",
       "description": "",
       "description_tooltip": null,
       "layout": "IPY_MODEL_ebb0cd6356a747d8a910c1a3d0127e63",
       "max": 7975.0,
       "min": 0.0,
       "orientation": "horizontal",
       "style": "IPY_MODEL_23400877549942688d9ba689d8818a1b",
       "value": 7975.0
      }
     },
     "1e305323ef9a4f989eee728c289b26b8": {
      "model_module": "@jupyter-widgets/controls",
      "model_module_version": "1.5.0",
      "model_name": "HBoxModel",
      "state": {
       "_dom_classes": [],
       "_model_module": "@jupyter-widgets/controls",
       "_model_module_version": "1.5.0",
       "_model_name": "HBoxModel",
       "_view_count": null,
       "_view_module": "@jupyter-widgets/controls",
       "_view_module_version": "1.5.0",
       "_view_name": "HBoxView",
       "box_style": "",
       "children": [
        "IPY_MODEL_6552e43d92bb44c58117906e308b9efc",
        "IPY_MODEL_423715a7a56f4fc992fc0a9a3bdeb73a",
        "IPY_MODEL_ec69135130ee43d0a0bf18e2cc137b6c"
       ],
       "layout": "IPY_MODEL_5f0fe488c6534625996116fea028016f"
      }
     },
     "1f8d3ff77cd7494bb13eb4cec2f0dc33": {
      "model_module": "@jupyter-widgets/base",
      "model_module_version": "1.2.0",
      "model_name": "LayoutModel",
      "state": {
       "_model_module": "@jupyter-widgets/base",
       "_model_module_version": "1.2.0",
       "_model_name": "LayoutModel",
       "_view_count": null,
       "_view_module": "@jupyter-widgets/base",
       "_view_module_version": "1.2.0",
       "_view_name": "LayoutView",
       "align_content": null,
       "align_items": null,
       "align_self": null,
       "border": null,
       "bottom": null,
       "display": null,
       "flex": null,
       "flex_flow": null,
       "grid_area": null,
       "grid_auto_columns": null,
       "grid_auto_flow": null,
       "grid_auto_rows": null,
       "grid_column": null,
       "grid_gap": null,
       "grid_row": null,
       "grid_template_areas": null,
       "grid_template_columns": null,
       "grid_template_rows": null,
       "height": null,
       "justify_content": null,
       "justify_items": null,
       "left": null,
       "margin": null,
       "max_height": null,
       "max_width": null,
       "min_height": null,
       "min_width": null,
       "object_fit": null,
       "object_position": null,
       "order": null,
       "overflow": null,
       "overflow_x": null,
       "overflow_y": null,
       "padding": null,
       "right": null,
       "top": null,
       "visibility": null,
       "width": null
      }
     },
     "20cdea3d252d48668217239d3eb0bcb6": {
      "model_module": "@jupyter-widgets/base",
      "model_module_version": "1.2.0",
      "model_name": "LayoutModel",
      "state": {
       "_model_module": "@jupyter-widgets/base",
       "_model_module_version": "1.2.0",
       "_model_name": "LayoutModel",
       "_view_count": null,
       "_view_module": "@jupyter-widgets/base",
       "_view_module_version": "1.2.0",
       "_view_name": "LayoutView",
       "align_content": null,
       "align_items": null,
       "align_self": null,
       "border": null,
       "bottom": null,
       "display": null,
       "flex": null,
       "flex_flow": null,
       "grid_area": null,
       "grid_auto_columns": null,
       "grid_auto_flow": null,
       "grid_auto_rows": null,
       "grid_column": null,
       "grid_gap": null,
       "grid_row": null,
       "grid_template_areas": null,
       "grid_template_columns": null,
       "grid_template_rows": null,
       "height": null,
       "justify_content": null,
       "justify_items": null,
       "left": null,
       "margin": null,
       "max_height": null,
       "max_width": null,
       "min_height": null,
       "min_width": null,
       "object_fit": null,
       "object_position": null,
       "order": null,
       "overflow": null,
       "overflow_x": null,
       "overflow_y": null,
       "padding": null,
       "right": null,
       "top": null,
       "visibility": null,
       "width": null
      }
     },
     "23400877549942688d9ba689d8818a1b": {
      "model_module": "@jupyter-widgets/controls",
      "model_module_version": "1.5.0",
      "model_name": "ProgressStyleModel",
      "state": {
       "_model_module": "@jupyter-widgets/controls",
       "_model_module_version": "1.5.0",
       "_model_name": "ProgressStyleModel",
       "_view_count": null,
       "_view_module": "@jupyter-widgets/base",
       "_view_module_version": "1.2.0",
       "_view_name": "StyleView",
       "bar_color": null,
       "description_width": ""
      }
     },
     "2c49b65b253345359c8decacb07b2d2c": {
      "model_module": "@jupyter-widgets/controls",
      "model_module_version": "1.5.0",
      "model_name": "HTMLModel",
      "state": {
       "_dom_classes": [],
       "_model_module": "@jupyter-widgets/controls",
       "_model_module_version": "1.5.0",
       "_model_name": "HTMLModel",
       "_view_count": null,
       "_view_module": "@jupyter-widgets/controls",
       "_view_module_version": "1.5.0",
       "_view_name": "HTMLView",
       "description": "",
       "description_tooltip": null,
       "layout": "IPY_MODEL_9636969aae194f179400e7c92b6269e9",
       "placeholder": "​",
       "style": "IPY_MODEL_722a18e6d56e439cb6aa13f1c9a0addd",
       "value": "Predict: 100%"
      }
     },
     "2d2bef20b72c4b2b94ed22e4b31167eb": {
      "model_module": "@jupyter-widgets/controls",
      "model_module_version": "1.5.0",
      "model_name": "HTMLModel",
      "state": {
       "_dom_classes": [],
       "_model_module": "@jupyter-widgets/controls",
       "_model_module_version": "1.5.0",
       "_model_name": "HTMLModel",
       "_view_count": null,
       "_view_module": "@jupyter-widgets/controls",
       "_view_module_version": "1.5.0",
       "_view_name": "HTMLView",
       "description": "",
       "description_tooltip": null,
       "layout": "IPY_MODEL_fc728eb6ecc4413c9d7beee78f1c7498",
       "placeholder": "​",
       "style": "IPY_MODEL_e8f5fb7df0984ecea04358fe352629f1",
       "value": " 7975/7975 [22:43&lt;00:00,  5.69it/s]"
      }
     },
     "371119d6bece44b38e86af0622edb794": {
      "model_module": "@jupyter-widgets/base",
      "model_module_version": "1.2.0",
      "model_name": "LayoutModel",
      "state": {
       "_model_module": "@jupyter-widgets/base",
       "_model_module_version": "1.2.0",
       "_model_name": "LayoutModel",
       "_view_count": null,
       "_view_module": "@jupyter-widgets/base",
       "_view_module_version": "1.2.0",
       "_view_name": "LayoutView",
       "align_content": null,
       "align_items": null,
       "align_self": null,
       "border": null,
       "bottom": null,
       "display": null,
       "flex": null,
       "flex_flow": null,
       "grid_area": null,
       "grid_auto_columns": null,
       "grid_auto_flow": null,
       "grid_auto_rows": null,
       "grid_column": null,
       "grid_gap": null,
       "grid_row": null,
       "grid_template_areas": null,
       "grid_template_columns": null,
       "grid_template_rows": null,
       "height": null,
       "justify_content": null,
       "justify_items": null,
       "left": null,
       "margin": null,
       "max_height": null,
       "max_width": null,
       "min_height": null,
       "min_width": null,
       "object_fit": null,
       "object_position": null,
       "order": null,
       "overflow": null,
       "overflow_x": null,
       "overflow_y": null,
       "padding": null,
       "right": null,
       "top": null,
       "visibility": null,
       "width": null
      }
     },
     "3a395b442e0c41059b5a7aeff1aab653": {
      "model_module": "@jupyter-widgets/base",
      "model_module_version": "1.2.0",
      "model_name": "LayoutModel",
      "state": {
       "_model_module": "@jupyter-widgets/base",
       "_model_module_version": "1.2.0",
       "_model_name": "LayoutModel",
       "_view_count": null,
       "_view_module": "@jupyter-widgets/base",
       "_view_module_version": "1.2.0",
       "_view_name": "LayoutView",
       "align_content": null,
       "align_items": null,
       "align_self": null,
       "border": null,
       "bottom": null,
       "display": null,
       "flex": null,
       "flex_flow": null,
       "grid_area": null,
       "grid_auto_columns": null,
       "grid_auto_flow": null,
       "grid_auto_rows": null,
       "grid_column": null,
       "grid_gap": null,
       "grid_row": null,
       "grid_template_areas": null,
       "grid_template_columns": null,
       "grid_template_rows": null,
       "height": null,
       "justify_content": null,
       "justify_items": null,
       "left": null,
       "margin": null,
       "max_height": null,
       "max_width": null,
       "min_height": null,
       "min_width": null,
       "object_fit": null,
       "object_position": null,
       "order": null,
       "overflow": null,
       "overflow_x": null,
       "overflow_y": null,
       "padding": null,
       "right": null,
       "top": null,
       "visibility": null,
       "width": null
      }
     },
     "3d71e0e69fcd4457ae7e5b496b371fc7": {
      "model_module": "@jupyter-widgets/controls",
      "model_module_version": "1.5.0",
      "model_name": "HTMLModel",
      "state": {
       "_dom_classes": [],
       "_model_module": "@jupyter-widgets/controls",
       "_model_module_version": "1.5.0",
       "_model_name": "HTMLModel",
       "_view_count": null,
       "_view_module": "@jupyter-widgets/controls",
       "_view_module_version": "1.5.0",
       "_view_name": "HTMLView",
       "description": "",
       "description_tooltip": null,
       "layout": "IPY_MODEL_d87f8c430c5e4e2cac5b3402569867bb",
       "placeholder": "​",
       "style": "IPY_MODEL_7bde1dbc5e464e2bb8cae66acaf7bdad",
       "value": "Predict: 100%"
      }
     },
     "423715a7a56f4fc992fc0a9a3bdeb73a": {
      "model_module": "@jupyter-widgets/controls",
      "model_module_version": "1.5.0",
      "model_name": "FloatProgressModel",
      "state": {
       "_dom_classes": [],
       "_model_module": "@jupyter-widgets/controls",
       "_model_module_version": "1.5.0",
       "_model_name": "FloatProgressModel",
       "_view_count": null,
       "_view_module": "@jupyter-widgets/controls",
       "_view_module_version": "1.5.0",
       "_view_name": "ProgressView",
       "bar_style": "success",
       "description": "",
       "description_tooltip": null,
       "layout": "IPY_MODEL_c30678d3f2864dcc8fb32164d3b66765",
       "max": 7975.0,
       "min": 0.0,
       "orientation": "horizontal",
       "style": "IPY_MODEL_f11b8ead55a24397a2bafff9063522bb",
       "value": 7975.0
      }
     },
     "4b044f3908cb4302a30b7c4ef2f3753e": {
      "model_module": "@jupyter-widgets/base",
      "model_module_version": "1.2.0",
      "model_name": "LayoutModel",
      "state": {
       "_model_module": "@jupyter-widgets/base",
       "_model_module_version": "1.2.0",
       "_model_name": "LayoutModel",
       "_view_count": null,
       "_view_module": "@jupyter-widgets/base",
       "_view_module_version": "1.2.0",
       "_view_name": "LayoutView",
       "align_content": null,
       "align_items": null,
       "align_self": null,
       "border": null,
       "bottom": null,
       "display": null,
       "flex": null,
       "flex_flow": null,
       "grid_area": null,
       "grid_auto_columns": null,
       "grid_auto_flow": null,
       "grid_auto_rows": null,
       "grid_column": null,
       "grid_gap": null,
       "grid_row": null,
       "grid_template_areas": null,
       "grid_template_columns": null,
       "grid_template_rows": null,
       "height": null,
       "justify_content": null,
       "justify_items": null,
       "left": null,
       "margin": null,
       "max_height": null,
       "max_width": null,
       "min_height": null,
       "min_width": null,
       "object_fit": null,
       "object_position": null,
       "order": null,
       "overflow": null,
       "overflow_x": null,
       "overflow_y": null,
       "padding": null,
       "right": null,
       "top": null,
       "visibility": null,
       "width": null
      }
     },
     "5a99e07f51354c7e8ab8c8626b4742cc": {
      "model_module": "@jupyter-widgets/controls",
      "model_module_version": "1.5.0",
      "model_name": "DescriptionStyleModel",
      "state": {
       "_model_module": "@jupyter-widgets/controls",
       "_model_module_version": "1.5.0",
       "_model_name": "DescriptionStyleModel",
       "_view_count": null,
       "_view_module": "@jupyter-widgets/base",
       "_view_module_version": "1.2.0",
       "_view_name": "StyleView",
       "description_width": ""
      }
     },
     "5de3ad7f6aac4ba7ac51ec8814ce51c3": {
      "model_module": "@jupyter-widgets/controls",
      "model_module_version": "1.5.0",
      "model_name": "DescriptionStyleModel",
      "state": {
       "_model_module": "@jupyter-widgets/controls",
       "_model_module_version": "1.5.0",
       "_model_name": "DescriptionStyleModel",
       "_view_count": null,
       "_view_module": "@jupyter-widgets/base",
       "_view_module_version": "1.2.0",
       "_view_name": "StyleView",
       "description_width": ""
      }
     },
     "5f0fe488c6534625996116fea028016f": {
      "model_module": "@jupyter-widgets/base",
      "model_module_version": "1.2.0",
      "model_name": "LayoutModel",
      "state": {
       "_model_module": "@jupyter-widgets/base",
       "_model_module_version": "1.2.0",
       "_model_name": "LayoutModel",
       "_view_count": null,
       "_view_module": "@jupyter-widgets/base",
       "_view_module_version": "1.2.0",
       "_view_name": "LayoutView",
       "align_content": null,
       "align_items": null,
       "align_self": null,
       "border": null,
       "bottom": null,
       "display": null,
       "flex": null,
       "flex_flow": null,
       "grid_area": null,
       "grid_auto_columns": null,
       "grid_auto_flow": null,
       "grid_auto_rows": null,
       "grid_column": null,
       "grid_gap": null,
       "grid_row": null,
       "grid_template_areas": null,
       "grid_template_columns": null,
       "grid_template_rows": null,
       "height": null,
       "justify_content": null,
       "justify_items": null,
       "left": null,
       "margin": null,
       "max_height": null,
       "max_width": null,
       "min_height": null,
       "min_width": null,
       "object_fit": null,
       "object_position": null,
       "order": null,
       "overflow": null,
       "overflow_x": null,
       "overflow_y": null,
       "padding": null,
       "right": null,
       "top": null,
       "visibility": null,
       "width": null
      }
     },
     "62a2db3663ae4e18b6c2d9d67e43ae3d": {
      "model_module": "@jupyter-widgets/controls",
      "model_module_version": "1.5.0",
      "model_name": "HBoxModel",
      "state": {
       "_dom_classes": [],
       "_model_module": "@jupyter-widgets/controls",
       "_model_module_version": "1.5.0",
       "_model_name": "HBoxModel",
       "_view_count": null,
       "_view_module": "@jupyter-widgets/controls",
       "_view_module_version": "1.5.0",
       "_view_name": "HBoxView",
       "box_style": "",
       "children": [
        "IPY_MODEL_cf387a0a85f547bf9d34a454b1e80e5e",
        "IPY_MODEL_13cc4cd0e912429b8b3ebb85e2930021",
        "IPY_MODEL_e23b0d4876a345fbab88e6c30526a956"
       ],
       "layout": "IPY_MODEL_bd5139eed1ae4b44ada5387690ccb86d"
      }
     },
     "6552e43d92bb44c58117906e308b9efc": {
      "model_module": "@jupyter-widgets/controls",
      "model_module_version": "1.5.0",
      "model_name": "HTMLModel",
      "state": {
       "_dom_classes": [],
       "_model_module": "@jupyter-widgets/controls",
       "_model_module_version": "1.5.0",
       "_model_name": "HTMLModel",
       "_view_count": null,
       "_view_module": "@jupyter-widgets/controls",
       "_view_module_version": "1.5.0",
       "_view_name": "HTMLView",
       "description": "",
       "description_tooltip": null,
       "layout": "IPY_MODEL_a0b0a205f5f34230a73582c32791e27f",
       "placeholder": "​",
       "style": "IPY_MODEL_fff55fc2e4d94df1aba46f1b695361b4",
       "value": "Predict: 100%"
      }
     },
     "687dd57b7fbc45038ac531d1d6a1d6e4": {
      "model_module": "@jupyter-widgets/controls",
      "model_module_version": "1.5.0",
      "model_name": "HBoxModel",
      "state": {
       "_dom_classes": [],
       "_model_module": "@jupyter-widgets/controls",
       "_model_module_version": "1.5.0",
       "_model_name": "HBoxModel",
       "_view_count": null,
       "_view_module": "@jupyter-widgets/controls",
       "_view_module_version": "1.5.0",
       "_view_name": "HBoxView",
       "box_style": "",
       "children": [
        "IPY_MODEL_2c49b65b253345359c8decacb07b2d2c",
        "IPY_MODEL_98dfc9a79e5141bea49889034d552529",
        "IPY_MODEL_2d2bef20b72c4b2b94ed22e4b31167eb"
       ],
       "layout": "IPY_MODEL_d73cfb434e124a3fabcdc47610889195"
      }
     },
     "71830818df8142d595792bc30116b0c1": {
      "model_module": "@jupyter-widgets/controls",
      "model_module_version": "1.5.0",
      "model_name": "DescriptionStyleModel",
      "state": {
       "_model_module": "@jupyter-widgets/controls",
       "_model_module_version": "1.5.0",
       "_model_name": "DescriptionStyleModel",
       "_view_count": null,
       "_view_module": "@jupyter-widgets/base",
       "_view_module_version": "1.2.0",
       "_view_name": "StyleView",
       "description_width": ""
      }
     },
     "722a18e6d56e439cb6aa13f1c9a0addd": {
      "model_module": "@jupyter-widgets/controls",
      "model_module_version": "1.5.0",
      "model_name": "DescriptionStyleModel",
      "state": {
       "_model_module": "@jupyter-widgets/controls",
       "_model_module_version": "1.5.0",
       "_model_name": "DescriptionStyleModel",
       "_view_count": null,
       "_view_module": "@jupyter-widgets/base",
       "_view_module_version": "1.2.0",
       "_view_name": "StyleView",
       "description_width": ""
      }
     },
     "7842be216a014d229c5c8e90146ab325": {
      "model_module": "@jupyter-widgets/controls",
      "model_module_version": "1.5.0",
      "model_name": "HTMLModel",
      "state": {
       "_dom_classes": [],
       "_model_module": "@jupyter-widgets/controls",
       "_model_module_version": "1.5.0",
       "_model_name": "HTMLModel",
       "_view_count": null,
       "_view_module": "@jupyter-widgets/controls",
       "_view_module_version": "1.5.0",
       "_view_name": "HTMLView",
       "description": "",
       "description_tooltip": null,
       "layout": "IPY_MODEL_a56956d740744dcd97ee173d576ea2ec",
       "placeholder": "​",
       "style": "IPY_MODEL_5a99e07f51354c7e8ab8c8626b4742cc",
       "value": " 7975/7975 [22:41&lt;00:00,  5.58it/s]"
      }
     },
     "7bde1dbc5e464e2bb8cae66acaf7bdad": {
      "model_module": "@jupyter-widgets/controls",
      "model_module_version": "1.5.0",
      "model_name": "DescriptionStyleModel",
      "state": {
       "_model_module": "@jupyter-widgets/controls",
       "_model_module_version": "1.5.0",
       "_model_name": "DescriptionStyleModel",
       "_view_count": null,
       "_view_module": "@jupyter-widgets/base",
       "_view_module_version": "1.2.0",
       "_view_name": "StyleView",
       "description_width": ""
      }
     },
     "9484619e5f4e43fb8712e52f46c65146": {
      "model_module": "@jupyter-widgets/controls",
      "model_module_version": "1.5.0",
      "model_name": "ProgressStyleModel",
      "state": {
       "_model_module": "@jupyter-widgets/controls",
       "_model_module_version": "1.5.0",
       "_model_name": "ProgressStyleModel",
       "_view_count": null,
       "_view_module": "@jupyter-widgets/base",
       "_view_module_version": "1.2.0",
       "_view_name": "StyleView",
       "bar_color": null,
       "description_width": ""
      }
     },
     "9636969aae194f179400e7c92b6269e9": {
      "model_module": "@jupyter-widgets/base",
      "model_module_version": "1.2.0",
      "model_name": "LayoutModel",
      "state": {
       "_model_module": "@jupyter-widgets/base",
       "_model_module_version": "1.2.0",
       "_model_name": "LayoutModel",
       "_view_count": null,
       "_view_module": "@jupyter-widgets/base",
       "_view_module_version": "1.2.0",
       "_view_name": "LayoutView",
       "align_content": null,
       "align_items": null,
       "align_self": null,
       "border": null,
       "bottom": null,
       "display": null,
       "flex": null,
       "flex_flow": null,
       "grid_area": null,
       "grid_auto_columns": null,
       "grid_auto_flow": null,
       "grid_auto_rows": null,
       "grid_column": null,
       "grid_gap": null,
       "grid_row": null,
       "grid_template_areas": null,
       "grid_template_columns": null,
       "grid_template_rows": null,
       "height": null,
       "justify_content": null,
       "justify_items": null,
       "left": null,
       "margin": null,
       "max_height": null,
       "max_width": null,
       "min_height": null,
       "min_width": null,
       "object_fit": null,
       "object_position": null,
       "order": null,
       "overflow": null,
       "overflow_x": null,
       "overflow_y": null,
       "padding": null,
       "right": null,
       "top": null,
       "visibility": null,
       "width": null
      }
     },
     "977b9a2ed25149cf934cf32406a38565": {
      "model_module": "@jupyter-widgets/base",
      "model_module_version": "1.2.0",
      "model_name": "LayoutModel",
      "state": {
       "_model_module": "@jupyter-widgets/base",
       "_model_module_version": "1.2.0",
       "_model_name": "LayoutModel",
       "_view_count": null,
       "_view_module": "@jupyter-widgets/base",
       "_view_module_version": "1.2.0",
       "_view_name": "LayoutView",
       "align_content": null,
       "align_items": null,
       "align_self": null,
       "border": null,
       "bottom": null,
       "display": null,
       "flex": null,
       "flex_flow": null,
       "grid_area": null,
       "grid_auto_columns": null,
       "grid_auto_flow": null,
       "grid_auto_rows": null,
       "grid_column": null,
       "grid_gap": null,
       "grid_row": null,
       "grid_template_areas": null,
       "grid_template_columns": null,
       "grid_template_rows": null,
       "height": null,
       "justify_content": null,
       "justify_items": null,
       "left": null,
       "margin": null,
       "max_height": null,
       "max_width": null,
       "min_height": null,
       "min_width": null,
       "object_fit": null,
       "object_position": null,
       "order": null,
       "overflow": null,
       "overflow_x": null,
       "overflow_y": null,
       "padding": null,
       "right": null,
       "top": null,
       "visibility": null,
       "width": null
      }
     },
     "98dfc9a79e5141bea49889034d552529": {
      "model_module": "@jupyter-widgets/controls",
      "model_module_version": "1.5.0",
      "model_name": "FloatProgressModel",
      "state": {
       "_dom_classes": [],
       "_model_module": "@jupyter-widgets/controls",
       "_model_module_version": "1.5.0",
       "_model_name": "FloatProgressModel",
       "_view_count": null,
       "_view_module": "@jupyter-widgets/controls",
       "_view_module_version": "1.5.0",
       "_view_name": "ProgressView",
       "bar_style": "",
       "description": "",
       "description_tooltip": null,
       "layout": "IPY_MODEL_3a395b442e0c41059b5a7aeff1aab653",
       "max": 7975.0,
       "min": 0.0,
       "orientation": "horizontal",
       "style": "IPY_MODEL_abb3bef31028400db956a02422974ac4",
       "value": 7975.0
      }
     },
     "a0b0a205f5f34230a73582c32791e27f": {
      "model_module": "@jupyter-widgets/base",
      "model_module_version": "1.2.0",
      "model_name": "LayoutModel",
      "state": {
       "_model_module": "@jupyter-widgets/base",
       "_model_module_version": "1.2.0",
       "_model_name": "LayoutModel",
       "_view_count": null,
       "_view_module": "@jupyter-widgets/base",
       "_view_module_version": "1.2.0",
       "_view_name": "LayoutView",
       "align_content": null,
       "align_items": null,
       "align_self": null,
       "border": null,
       "bottom": null,
       "display": null,
       "flex": null,
       "flex_flow": null,
       "grid_area": null,
       "grid_auto_columns": null,
       "grid_auto_flow": null,
       "grid_auto_rows": null,
       "grid_column": null,
       "grid_gap": null,
       "grid_row": null,
       "grid_template_areas": null,
       "grid_template_columns": null,
       "grid_template_rows": null,
       "height": null,
       "justify_content": null,
       "justify_items": null,
       "left": null,
       "margin": null,
       "max_height": null,
       "max_width": null,
       "min_height": null,
       "min_width": null,
       "object_fit": null,
       "object_position": null,
       "order": null,
       "overflow": null,
       "overflow_x": null,
       "overflow_y": null,
       "padding": null,
       "right": null,
       "top": null,
       "visibility": null,
       "width": null
      }
     },
     "a56956d740744dcd97ee173d576ea2ec": {
      "model_module": "@jupyter-widgets/base",
      "model_module_version": "1.2.0",
      "model_name": "LayoutModel",
      "state": {
       "_model_module": "@jupyter-widgets/base",
       "_model_module_version": "1.2.0",
       "_model_name": "LayoutModel",
       "_view_count": null,
       "_view_module": "@jupyter-widgets/base",
       "_view_module_version": "1.2.0",
       "_view_name": "LayoutView",
       "align_content": null,
       "align_items": null,
       "align_self": null,
       "border": null,
       "bottom": null,
       "display": null,
       "flex": null,
       "flex_flow": null,
       "grid_area": null,
       "grid_auto_columns": null,
       "grid_auto_flow": null,
       "grid_auto_rows": null,
       "grid_column": null,
       "grid_gap": null,
       "grid_row": null,
       "grid_template_areas": null,
       "grid_template_columns": null,
       "grid_template_rows": null,
       "height": null,
       "justify_content": null,
       "justify_items": null,
       "left": null,
       "margin": null,
       "max_height": null,
       "max_width": null,
       "min_height": null,
       "min_width": null,
       "object_fit": null,
       "object_position": null,
       "order": null,
       "overflow": null,
       "overflow_x": null,
       "overflow_y": null,
       "padding": null,
       "right": null,
       "top": null,
       "visibility": null,
       "width": null
      }
     },
     "abb3bef31028400db956a02422974ac4": {
      "model_module": "@jupyter-widgets/controls",
      "model_module_version": "1.5.0",
      "model_name": "ProgressStyleModel",
      "state": {
       "_model_module": "@jupyter-widgets/controls",
       "_model_module_version": "1.5.0",
       "_model_name": "ProgressStyleModel",
       "_view_count": null,
       "_view_module": "@jupyter-widgets/base",
       "_view_module_version": "1.2.0",
       "_view_name": "StyleView",
       "bar_color": null,
       "description_width": ""
      }
     },
     "accfc1569e55463989d6bb9d0a55d5d3": {
      "model_module": "@jupyter-widgets/controls",
      "model_module_version": "1.5.0",
      "model_name": "ProgressStyleModel",
      "state": {
       "_model_module": "@jupyter-widgets/controls",
       "_model_module_version": "1.5.0",
       "_model_name": "ProgressStyleModel",
       "_view_count": null,
       "_view_module": "@jupyter-widgets/base",
       "_view_module_version": "1.2.0",
       "_view_name": "StyleView",
       "bar_color": null,
       "description_width": ""
      }
     },
     "bd0fd183e04e49ff91cb0c9ed3cc3feb": {
      "model_module": "@jupyter-widgets/controls",
      "model_module_version": "1.5.0",
      "model_name": "HBoxModel",
      "state": {
       "_dom_classes": [],
       "_model_module": "@jupyter-widgets/controls",
       "_model_module_version": "1.5.0",
       "_model_name": "HBoxModel",
       "_view_count": null,
       "_view_module": "@jupyter-widgets/controls",
       "_view_module_version": "1.5.0",
       "_view_name": "HBoxView",
       "box_style": "",
       "children": [
        "IPY_MODEL_ee9226b0229d41c2a6670f7e82aa47a1",
        "IPY_MODEL_f752f25259a84d10a18a4ef101f70c15",
        "IPY_MODEL_0e5900c475bb47a98127203d86021245"
       ],
       "layout": "IPY_MODEL_4b044f3908cb4302a30b7c4ef2f3753e"
      }
     },
     "bd5139eed1ae4b44ada5387690ccb86d": {
      "model_module": "@jupyter-widgets/base",
      "model_module_version": "1.2.0",
      "model_name": "LayoutModel",
      "state": {
       "_model_module": "@jupyter-widgets/base",
       "_model_module_version": "1.2.0",
       "_model_name": "LayoutModel",
       "_view_count": null,
       "_view_module": "@jupyter-widgets/base",
       "_view_module_version": "1.2.0",
       "_view_name": "LayoutView",
       "align_content": null,
       "align_items": null,
       "align_self": null,
       "border": null,
       "bottom": null,
       "display": null,
       "flex": null,
       "flex_flow": null,
       "grid_area": null,
       "grid_auto_columns": null,
       "grid_auto_flow": null,
       "grid_auto_rows": null,
       "grid_column": null,
       "grid_gap": null,
       "grid_row": null,
       "grid_template_areas": null,
       "grid_template_columns": null,
       "grid_template_rows": null,
       "height": null,
       "justify_content": null,
       "justify_items": null,
       "left": null,
       "margin": null,
       "max_height": null,
       "max_width": null,
       "min_height": null,
       "min_width": null,
       "object_fit": null,
       "object_position": null,
       "order": null,
       "overflow": null,
       "overflow_x": null,
       "overflow_y": null,
       "padding": null,
       "right": null,
       "top": null,
       "visibility": null,
       "width": null
      }
     },
     "c30678d3f2864dcc8fb32164d3b66765": {
      "model_module": "@jupyter-widgets/base",
      "model_module_version": "1.2.0",
      "model_name": "LayoutModel",
      "state": {
       "_model_module": "@jupyter-widgets/base",
       "_model_module_version": "1.2.0",
       "_model_name": "LayoutModel",
       "_view_count": null,
       "_view_module": "@jupyter-widgets/base",
       "_view_module_version": "1.2.0",
       "_view_name": "LayoutView",
       "align_content": null,
       "align_items": null,
       "align_self": null,
       "border": null,
       "bottom": null,
       "display": null,
       "flex": null,
       "flex_flow": null,
       "grid_area": null,
       "grid_auto_columns": null,
       "grid_auto_flow": null,
       "grid_auto_rows": null,
       "grid_column": null,
       "grid_gap": null,
       "grid_row": null,
       "grid_template_areas": null,
       "grid_template_columns": null,
       "grid_template_rows": null,
       "height": null,
       "justify_content": null,
       "justify_items": null,
       "left": null,
       "margin": null,
       "max_height": null,
       "max_width": null,
       "min_height": null,
       "min_width": null,
       "object_fit": null,
       "object_position": null,
       "order": null,
       "overflow": null,
       "overflow_x": null,
       "overflow_y": null,
       "padding": null,
       "right": null,
       "top": null,
       "visibility": null,
       "width": null
      }
     },
     "cf387a0a85f547bf9d34a454b1e80e5e": {
      "model_module": "@jupyter-widgets/controls",
      "model_module_version": "1.5.0",
      "model_name": "HTMLModel",
      "state": {
       "_dom_classes": [],
       "_model_module": "@jupyter-widgets/controls",
       "_model_module_version": "1.5.0",
       "_model_name": "HTMLModel",
       "_view_count": null,
       "_view_module": "@jupyter-widgets/controls",
       "_view_module_version": "1.5.0",
       "_view_name": "HTMLView",
       "description": "",
       "description_tooltip": null,
       "layout": "IPY_MODEL_0ccdc188cc1247f0a4c3cc64d38dec11",
       "placeholder": "​",
       "style": "IPY_MODEL_5de3ad7f6aac4ba7ac51ec8814ce51c3",
       "value": "Predict: 100%"
      }
     },
     "d5a44b1b9eda49d9895bb1bbdf905d87": {
      "model_module": "@jupyter-widgets/controls",
      "model_module_version": "1.5.0",
      "model_name": "DescriptionStyleModel",
      "state": {
       "_model_module": "@jupyter-widgets/controls",
       "_model_module_version": "1.5.0",
       "_model_name": "DescriptionStyleModel",
       "_view_count": null,
       "_view_module": "@jupyter-widgets/base",
       "_view_module_version": "1.2.0",
       "_view_name": "StyleView",
       "description_width": ""
      }
     },
     "d71fafba1a7645e38f5cc0cfc0892612": {
      "model_module": "@jupyter-widgets/base",
      "model_module_version": "1.2.0",
      "model_name": "LayoutModel",
      "state": {
       "_model_module": "@jupyter-widgets/base",
       "_model_module_version": "1.2.0",
       "_model_name": "LayoutModel",
       "_view_count": null,
       "_view_module": "@jupyter-widgets/base",
       "_view_module_version": "1.2.0",
       "_view_name": "LayoutView",
       "align_content": null,
       "align_items": null,
       "align_self": null,
       "border": null,
       "bottom": null,
       "display": null,
       "flex": null,
       "flex_flow": null,
       "grid_area": null,
       "grid_auto_columns": null,
       "grid_auto_flow": null,
       "grid_auto_rows": null,
       "grid_column": null,
       "grid_gap": null,
       "grid_row": null,
       "grid_template_areas": null,
       "grid_template_columns": null,
       "grid_template_rows": null,
       "height": null,
       "justify_content": null,
       "justify_items": null,
       "left": null,
       "margin": null,
       "max_height": null,
       "max_width": null,
       "min_height": null,
       "min_width": null,
       "object_fit": null,
       "object_position": null,
       "order": null,
       "overflow": null,
       "overflow_x": null,
       "overflow_y": null,
       "padding": null,
       "right": null,
       "top": null,
       "visibility": null,
       "width": null
      }
     },
     "d73cfb434e124a3fabcdc47610889195": {
      "model_module": "@jupyter-widgets/base",
      "model_module_version": "1.2.0",
      "model_name": "LayoutModel",
      "state": {
       "_model_module": "@jupyter-widgets/base",
       "_model_module_version": "1.2.0",
       "_model_name": "LayoutModel",
       "_view_count": null,
       "_view_module": "@jupyter-widgets/base",
       "_view_module_version": "1.2.0",
       "_view_name": "LayoutView",
       "align_content": null,
       "align_items": null,
       "align_self": null,
       "border": null,
       "bottom": null,
       "display": null,
       "flex": null,
       "flex_flow": null,
       "grid_area": null,
       "grid_auto_columns": null,
       "grid_auto_flow": null,
       "grid_auto_rows": null,
       "grid_column": null,
       "grid_gap": null,
       "grid_row": null,
       "grid_template_areas": null,
       "grid_template_columns": null,
       "grid_template_rows": null,
       "height": null,
       "justify_content": null,
       "justify_items": null,
       "left": null,
       "margin": null,
       "max_height": null,
       "max_width": null,
       "min_height": null,
       "min_width": null,
       "object_fit": null,
       "object_position": null,
       "order": null,
       "overflow": null,
       "overflow_x": null,
       "overflow_y": null,
       "padding": null,
       "right": null,
       "top": null,
       "visibility": null,
       "width": null
      }
     },
     "d87f8c430c5e4e2cac5b3402569867bb": {
      "model_module": "@jupyter-widgets/base",
      "model_module_version": "1.2.0",
      "model_name": "LayoutModel",
      "state": {
       "_model_module": "@jupyter-widgets/base",
       "_model_module_version": "1.2.0",
       "_model_name": "LayoutModel",
       "_view_count": null,
       "_view_module": "@jupyter-widgets/base",
       "_view_module_version": "1.2.0",
       "_view_name": "LayoutView",
       "align_content": null,
       "align_items": null,
       "align_self": null,
       "border": null,
       "bottom": null,
       "display": null,
       "flex": null,
       "flex_flow": null,
       "grid_area": null,
       "grid_auto_columns": null,
       "grid_auto_flow": null,
       "grid_auto_rows": null,
       "grid_column": null,
       "grid_gap": null,
       "grid_row": null,
       "grid_template_areas": null,
       "grid_template_columns": null,
       "grid_template_rows": null,
       "height": null,
       "justify_content": null,
       "justify_items": null,
       "left": null,
       "margin": null,
       "max_height": null,
       "max_width": null,
       "min_height": null,
       "min_width": null,
       "object_fit": null,
       "object_position": null,
       "order": null,
       "overflow": null,
       "overflow_x": null,
       "overflow_y": null,
       "padding": null,
       "right": null,
       "top": null,
       "visibility": null,
       "width": null
      }
     },
     "e23b0d4876a345fbab88e6c30526a956": {
      "model_module": "@jupyter-widgets/controls",
      "model_module_version": "1.5.0",
      "model_name": "HTMLModel",
      "state": {
       "_dom_classes": [],
       "_model_module": "@jupyter-widgets/controls",
       "_model_module_version": "1.5.0",
       "_model_name": "HTMLModel",
       "_view_count": null,
       "_view_module": "@jupyter-widgets/controls",
       "_view_module_version": "1.5.0",
       "_view_name": "HTMLView",
       "description": "",
       "description_tooltip": null,
       "layout": "IPY_MODEL_977b9a2ed25149cf934cf32406a38565",
       "placeholder": "​",
       "style": "IPY_MODEL_08f11220043c4ca3af5c78b2df400492",
       "value": " 7975/7975 [22:31&lt;00:00,  5.78it/s]"
      }
     },
     "e8f5fb7df0984ecea04358fe352629f1": {
      "model_module": "@jupyter-widgets/controls",
      "model_module_version": "1.5.0",
      "model_name": "DescriptionStyleModel",
      "state": {
       "_model_module": "@jupyter-widgets/controls",
       "_model_module_version": "1.5.0",
       "_model_name": "DescriptionStyleModel",
       "_view_count": null,
       "_view_module": "@jupyter-widgets/base",
       "_view_module_version": "1.2.0",
       "_view_name": "StyleView",
       "description_width": ""
      }
     },
     "ebb0cd6356a747d8a910c1a3d0127e63": {
      "model_module": "@jupyter-widgets/base",
      "model_module_version": "1.2.0",
      "model_name": "LayoutModel",
      "state": {
       "_model_module": "@jupyter-widgets/base",
       "_model_module_version": "1.2.0",
       "_model_name": "LayoutModel",
       "_view_count": null,
       "_view_module": "@jupyter-widgets/base",
       "_view_module_version": "1.2.0",
       "_view_name": "LayoutView",
       "align_content": null,
       "align_items": null,
       "align_self": null,
       "border": null,
       "bottom": null,
       "display": null,
       "flex": null,
       "flex_flow": null,
       "grid_area": null,
       "grid_auto_columns": null,
       "grid_auto_flow": null,
       "grid_auto_rows": null,
       "grid_column": null,
       "grid_gap": null,
       "grid_row": null,
       "grid_template_areas": null,
       "grid_template_columns": null,
       "grid_template_rows": null,
       "height": null,
       "justify_content": null,
       "justify_items": null,
       "left": null,
       "margin": null,
       "max_height": null,
       "max_width": null,
       "min_height": null,
       "min_width": null,
       "object_fit": null,
       "object_position": null,
       "order": null,
       "overflow": null,
       "overflow_x": null,
       "overflow_y": null,
       "padding": null,
       "right": null,
       "top": null,
       "visibility": null,
       "width": null
      }
     },
     "ec69135130ee43d0a0bf18e2cc137b6c": {
      "model_module": "@jupyter-widgets/controls",
      "model_module_version": "1.5.0",
      "model_name": "HTMLModel",
      "state": {
       "_dom_classes": [],
       "_model_module": "@jupyter-widgets/controls",
       "_model_module_version": "1.5.0",
       "_model_name": "HTMLModel",
       "_view_count": null,
       "_view_module": "@jupyter-widgets/controls",
       "_view_module_version": "1.5.0",
       "_view_name": "HTMLView",
       "description": "",
       "description_tooltip": null,
       "layout": "IPY_MODEL_1f8d3ff77cd7494bb13eb4cec2f0dc33",
       "placeholder": "​",
       "style": "IPY_MODEL_d5a44b1b9eda49d9895bb1bbdf905d87",
       "value": " 7975/7975 [22:48&lt;00:00,  6.02it/s]"
      }
     },
     "ee9226b0229d41c2a6670f7e82aa47a1": {
      "model_module": "@jupyter-widgets/controls",
      "model_module_version": "1.5.0",
      "model_name": "HTMLModel",
      "state": {
       "_dom_classes": [],
       "_model_module": "@jupyter-widgets/controls",
       "_model_module_version": "1.5.0",
       "_model_name": "HTMLModel",
       "_view_count": null,
       "_view_module": "@jupyter-widgets/controls",
       "_view_module_version": "1.5.0",
       "_view_name": "HTMLView",
       "description": "",
       "description_tooltip": null,
       "layout": "IPY_MODEL_f4f4822a42894d3cb7ec780800c90e78",
       "placeholder": "​",
       "style": "IPY_MODEL_71830818df8142d595792bc30116b0c1",
       "value": "Predict: 100%"
      }
     },
     "f11b8ead55a24397a2bafff9063522bb": {
      "model_module": "@jupyter-widgets/controls",
      "model_module_version": "1.5.0",
      "model_name": "ProgressStyleModel",
      "state": {
       "_model_module": "@jupyter-widgets/controls",
       "_model_module_version": "1.5.0",
       "_model_name": "ProgressStyleModel",
       "_view_count": null,
       "_view_module": "@jupyter-widgets/base",
       "_view_module_version": "1.2.0",
       "_view_name": "StyleView",
       "bar_color": null,
       "description_width": ""
      }
     },
     "f4f4822a42894d3cb7ec780800c90e78": {
      "model_module": "@jupyter-widgets/base",
      "model_module_version": "1.2.0",
      "model_name": "LayoutModel",
      "state": {
       "_model_module": "@jupyter-widgets/base",
       "_model_module_version": "1.2.0",
       "_model_name": "LayoutModel",
       "_view_count": null,
       "_view_module": "@jupyter-widgets/base",
       "_view_module_version": "1.2.0",
       "_view_name": "LayoutView",
       "align_content": null,
       "align_items": null,
       "align_self": null,
       "border": null,
       "bottom": null,
       "display": null,
       "flex": null,
       "flex_flow": null,
       "grid_area": null,
       "grid_auto_columns": null,
       "grid_auto_flow": null,
       "grid_auto_rows": null,
       "grid_column": null,
       "grid_gap": null,
       "grid_row": null,
       "grid_template_areas": null,
       "grid_template_columns": null,
       "grid_template_rows": null,
       "height": null,
       "justify_content": null,
       "justify_items": null,
       "left": null,
       "margin": null,
       "max_height": null,
       "max_width": null,
       "min_height": null,
       "min_width": null,
       "object_fit": null,
       "object_position": null,
       "order": null,
       "overflow": null,
       "overflow_x": null,
       "overflow_y": null,
       "padding": null,
       "right": null,
       "top": null,
       "visibility": null,
       "width": null
      }
     },
     "f752f25259a84d10a18a4ef101f70c15": {
      "model_module": "@jupyter-widgets/controls",
      "model_module_version": "1.5.0",
      "model_name": "FloatProgressModel",
      "state": {
       "_dom_classes": [],
       "_model_module": "@jupyter-widgets/controls",
       "_model_module_version": "1.5.0",
       "_model_name": "FloatProgressModel",
       "_view_count": null,
       "_view_module": "@jupyter-widgets/controls",
       "_view_module_version": "1.5.0",
       "_view_name": "ProgressView",
       "bar_style": "success",
       "description": "",
       "description_tooltip": null,
       "layout": "IPY_MODEL_371119d6bece44b38e86af0622edb794",
       "max": 7975.0,
       "min": 0.0,
       "orientation": "horizontal",
       "style": "IPY_MODEL_9484619e5f4e43fb8712e52f46c65146",
       "value": 7975.0
      }
     },
     "f8e2d7950a8f424b842c9a9f0e6c45df": {
      "model_module": "@jupyter-widgets/controls",
      "model_module_version": "1.5.0",
      "model_name": "DescriptionStyleModel",
      "state": {
       "_model_module": "@jupyter-widgets/controls",
       "_model_module_version": "1.5.0",
       "_model_name": "DescriptionStyleModel",
       "_view_count": null,
       "_view_module": "@jupyter-widgets/base",
       "_view_module_version": "1.2.0",
       "_view_name": "StyleView",
       "description_width": ""
      }
     },
     "fc728eb6ecc4413c9d7beee78f1c7498": {
      "model_module": "@jupyter-widgets/base",
      "model_module_version": "1.2.0",
      "model_name": "LayoutModel",
      "state": {
       "_model_module": "@jupyter-widgets/base",
       "_model_module_version": "1.2.0",
       "_model_name": "LayoutModel",
       "_view_count": null,
       "_view_module": "@jupyter-widgets/base",
       "_view_module_version": "1.2.0",
       "_view_name": "LayoutView",
       "align_content": null,
       "align_items": null,
       "align_self": null,
       "border": null,
       "bottom": null,
       "display": null,
       "flex": null,
       "flex_flow": null,
       "grid_area": null,
       "grid_auto_columns": null,
       "grid_auto_flow": null,
       "grid_auto_rows": null,
       "grid_column": null,
       "grid_gap": null,
       "grid_row": null,
       "grid_template_areas": null,
       "grid_template_columns": null,
       "grid_template_rows": null,
       "height": null,
       "justify_content": null,
       "justify_items": null,
       "left": null,
       "margin": null,
       "max_height": null,
       "max_width": null,
       "min_height": null,
       "min_width": null,
       "object_fit": null,
       "object_position": null,
       "order": null,
       "overflow": null,
       "overflow_x": null,
       "overflow_y": null,
       "padding": null,
       "right": null,
       "top": null,
       "visibility": null,
       "width": null
      }
     },
     "fff55fc2e4d94df1aba46f1b695361b4": {
      "model_module": "@jupyter-widgets/controls",
      "model_module_version": "1.5.0",
      "model_name": "DescriptionStyleModel",
      "state": {
       "_model_module": "@jupyter-widgets/controls",
       "_model_module_version": "1.5.0",
       "_model_name": "DescriptionStyleModel",
       "_view_count": null,
       "_view_module": "@jupyter-widgets/base",
       "_view_module_version": "1.2.0",
       "_view_name": "StyleView",
       "description_width": ""
      }
     }
    },
    "version_major": 2,
    "version_minor": 0
   }
  }
 },
 "nbformat": 4,
 "nbformat_minor": 5
}
